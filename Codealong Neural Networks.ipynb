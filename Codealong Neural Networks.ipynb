{
 "cells": [
  {
   "cell_type": "markdown",
   "metadata": {},
   "source": [
    "# Code along"
   ]
  },
  {
   "cell_type": "markdown",
   "metadata": {},
   "source": [
    "Hey! Welcome to the notebook. Here's some code you can play with while Chris drones on.\n",
    "\n",
    "First, imports. If you can run this next cell with no errors, you'll be just fine."
   ]
  },
  {
   "cell_type": "code",
   "execution_count": 1,
   "metadata": {
    "collapsed": false
   },
   "outputs": [
    {
     "name": "stderr",
     "output_type": "stream",
     "text": [
      "Using TensorFlow backend.\n"
     ]
    }
   ],
   "source": [
    "%matplotlib inline\n",
    "\n",
    "import sys\n",
    "import numpy as np\n",
    "import matplotlib.pyplot as plt\n",
    "\n",
    "from keras.models import Sequential, load_model\n",
    "from keras.layers import Dense, Activation, LSTM, Dropout\n",
    "from keras.optimizers import RMSprop\n",
    "\n",
    "import tensorflow as tf"
   ]
  },
  {
   "cell_type": "markdown",
   "metadata": {},
   "source": [
    "If the `tensorflow` import failed but you have Theano, you might be alright."
   ]
  },
  {
   "cell_type": "markdown",
   "metadata": {},
   "source": [
    "### Ex 1"
   ]
  },
  {
   "cell_type": "code",
   "execution_count": 2,
   "metadata": {
    "collapsed": true
   },
   "outputs": [],
   "source": [
    "def very_simple_network(input_1, input_2):\n",
    "    weight_1 = 1\n",
    "    weight_2 = 1\n",
    "    bias = 0\n",
    "    activation = input_1*weight_1 + input_2*weight_2 + bias\n",
    "    output = 1 if activation > 0 else 0\n",
    "    return output\n",
    "\n",
    "# Exercise: try combinations of inputs and see what the output is.\n",
    "# In particular, try combining boolean inputs.\n",
    "# What does this network represent?"
   ]
  },
  {
   "cell_type": "markdown",
   "metadata": {},
   "source": [
    "### Ex 2"
   ]
  },
  {
   "cell_type": "code",
   "execution_count": 3,
   "metadata": {
    "collapsed": true
   },
   "outputs": [],
   "source": [
    "def another_simple_network(input_1, input_2):\n",
    "    weight_1 = -2\n",
    "    weight_2 = -2\n",
    "    bias = 3\n",
    "    activation = input_1*weight_1 + input_2*weight_2 + bias\n",
    "    output = 1 if activation > 0 else 0\n",
    "    return output\n",
    "\n",
    "# Exercise: Try combinations of boolean inputs again.\n",
    "# What kind of logic gate does this network represent?\n",
    "# What is the significance of that?"
   ]
  },
  {
   "cell_type": "markdown",
   "metadata": {},
   "source": [
    "### Ex 3"
   ]
  },
  {
   "cell_type": "code",
   "execution_count": 4,
   "metadata": {
    "collapsed": true
   },
   "outputs": [],
   "source": [
    "# elementwise addition:\n",
    "\n",
    "vector_1 = [1,2,3,4,5]\n",
    "vector_2 = [1,2,3,4,5]\n",
    "output_vector = [2,4,6,8,10]\n",
    "\n",
    "def elementwise_add(v1,v2):\n",
    "    # Exercise. Write a function that takes vector_1\n",
    "    # and vector_2 and outputs output_vector.\n",
    "    return out"
   ]
  },
  {
   "cell_type": "markdown",
   "metadata": {},
   "source": [
    "### Ex 4"
   ]
  },
  {
   "cell_type": "code",
   "execution_count": 5,
   "metadata": {
    "collapsed": false
   },
   "outputs": [
    {
     "data": {
      "text/plain": [
       "<matplotlib.collections.PathCollection at 0x10e753b00>"
      ]
     },
     "execution_count": 5,
     "metadata": {},
     "output_type": "execute_result"
    },
    {
     "data": {
      "image/png": "[encoded data removed]",
      "text/plain": [
       "<matplotlib.figure.Figure at 0x10e6e6f28>"
      ]
     },
     "metadata": {},
     "output_type": "display_data"
    }
   ],
   "source": [
    "# generate fake dataset\n",
    "x = np.linspace(-1,1,201)\n",
    "y3 =  x**3\n",
    "plt.scatter(x, y3)"
   ]
  },
  {
   "cell_type": "code",
   "execution_count": 14,
   "metadata": {
    "collapsed": false
   },
   "outputs": [],
   "source": [
    "cubic_network = Sequential([\n",
    "    # Exercise. Define a network architecture here.\n",
    "    # Use Dense(n, input_dim=1) and play with n, then an Activation('tanh') layer\n",
    "])\n",
    "cubic_network.compile(loss='mean_squared_error', optimizer='rmsprop')\n",
    "\n",
    "# Advanced: lookup rmsprop. What is the difference between that and stochastic gradient descent?\n",
    "# More generally, why might one use an adaptive learning rate?"
   ]
  },
  {
   "cell_type": "code",
   "execution_count": null,
   "metadata": {
    "collapsed": true
   },
   "outputs": [],
   "source": [
    "cubic_network.fit(x, y3, nb_epoch=100, # try changinge the number of epochs\n",
    "                  verbose=2)\n",
    "\n",
    "# With verbose=2, the network will output its loss after every epoch.\n",
    "# Remember we want to _minimize_ the difference between the output of\n",
    "# the network and the input data, so a small loss is a good thing."
   ]
  },
  {
   "cell_type": "code",
   "execution_count": null,
   "metadata": {
    "collapsed": true
   },
   "outputs": [],
   "source": [
    "y3_prime = cubic_network.predict(x)\n",
    "plt.scatter(x, y3, alpha=0.1)\n",
    "plt.plot(x, y3_prime, color='g')"
   ]
  },
  {
   "cell_type": "markdown",
   "metadata": {},
   "source": [
    "### Ex 5"
   ]
  },
  {
   "cell_type": "raw",
   "metadata": {
    "collapsed": true
   },
   "source": [
    "# I have basically copied most of this code from\n",
    "# https://github.com/fchollet/keras/blob/master/examples/lstm_text_generation.py\n",
    "# Thanks be to @fchollet!\n",
    "# There are some minor stylistic changes and extra annotations (waffle)."
   ]
  },
  {
   "cell_type": "code",
   "execution_count": 51,
   "metadata": {
    "collapsed": true
   },
   "outputs": [],
   "source": [
    "# Data loading\n",
    "\n",
    "def read_lines(filename):\n",
    "    '''Just a convenience function.'''\n",
    "    lines = open(filename).read().strip().split('.')\n",
    "    return lines\n",
    "\n",
    "#lines = read_lines('data/trump_speeches.txt')\n",
    "# If you prefer Shakespeare, swap out the above for this:\n",
    "lines = read_lines('data/will_play_truncated.txt')\n",
    "\n",
    "all_text = ' '.join([' '.join(x.splitlines()) for x in lines])\n",
    "\n",
    "# Chars is the full list of possible input characters.\n",
    "# We create index:character and character:index for convenience later.\n",
    "chars = sorted(list(set(all_text)))\n",
    "char_indices = {c:i for i, c in enumerate(chars)}\n",
    "indices_char = {i:c for i, c in enumerate(chars)}"
   ]
  },
  {
   "cell_type": "code",
   "execution_count": 52,
   "metadata": {
    "collapsed": true
   },
   "outputs": [],
   "source": [
    "# This is a supervised learning problem. Here we create our training set of (input, output) pairs.\n",
    "\n",
    "# First define the length of the sequence\n",
    "seqlen = 40 # 40 characters at a time.\n",
    "\n",
    "# Advanced: Why do we need a fixed length? Our backend is tensorflow (or Theano),\n",
    "# which defines a fixed computation graph.\n",
    "# This has some nice features, like being able to optimize for many computing architectures\n",
    "# more easily (gpu, cpu, embedded, ...), but it means our graph is static.\n",
    "# For variable length sequences, we need the graph to be dynamic at run time.\n",
    "# Fortunately PyTorch released a couple of weeks ago, providing just this (http://pytorch.org/).\n",
    "\n",
    "# Get all ordered 40 character strings that occur in the text\n",
    "seqs = [all_text[i:i+seqlen]\n",
    "        for i in range(len(all_text)-seqlen)]\n",
    "# and the next character in all those cases\n",
    "char = [all_text[i+seqlen]\n",
    "        for i in range(len(all_text)-seqlen)]"
   ]
  },
  {
   "cell_type": "code",
   "execution_count": 53,
   "metadata": {
    "collapsed": true
   },
   "outputs": [],
   "source": [
    "# vectorize (encode characters as unit vectors)\n",
    "\n",
    "# initialize empty lists of vectors with NumPy\n",
    "X = np.zeros((len(seqs),   # number of training sequences\n",
    "              seqlen,      # length of each sequence\n",
    "              len(chars)), # length of each feature vector\n",
    "             dtype=np.bool)\n",
    "y = np.zeros((len(seqs), len(chars)), dtype=np.bool)\n",
    "\n",
    "# fill the right elements of the vectors\n",
    "for i, seq in enumerate(seqs):\n",
    "    for t, c in enumerate(seq):\n",
    "        X[i, t, char_indices[c]] = 1\n",
    "    y[i, char_indices[char[i]]] = 1"
   ]
  },
  {
   "cell_type": "code",
   "execution_count": 54,
   "metadata": {
    "collapsed": true
   },
   "outputs": [],
   "source": [
    "# Training a language model on about a dozen CPU cores took a weekend.\n",
    "# Instead of starting training yourself, the following pre-trained model files are available.\n",
    "# - trump_epoch_X.h5        where X in [1, 5, 10, 20, 30, 40, 50, 60]\n",
    "# - shakespeare_epoch_X.h5  where X in [1, 5, 10, 14]\n",
    "#   (training for Shakespeare was killed at 14 epochs when Rowan suggested Trump...)\n",
    "# I suggest loading one model at a time and playing with the output. Start with a low number of epochs.\n",
    "# The generated text should get more realistic as the number of epochs increases.\n",
    "\n",
    "model = load_model('models/shakespeare_epoch_1.h5')\n",
    "\n",
    "# If you swap between models (Trump -> Shakespeare),\n",
    "# you need to swap the data and rerun the previous few cells too!"
   ]
  },
  {
   "cell_type": "code",
   "execution_count": 49,
   "metadata": {
    "collapsed": true
   },
   "outputs": [],
   "source": [
    "# This is just a helper to sample from the output array of characters in each case.\n",
    "# If we always choose the most likely next character, we get into loops, so instead,\n",
    "# we sample randomly, with a probability assigned by the output of the network.\n",
    "\n",
    "def sample(preds, temperature=1.0):\n",
    "    # helper function to sample an index from a probability array\n",
    "    # thieved from Keras creator @fchollet\n",
    "    preds = np.asarray([max(x,10**-10) for x in preds]).astype('float64')\n",
    "    preds = np.log(preds) / temperature\n",
    "    exp_preds = np.exp(preds)\n",
    "    preds = exp_preds / np.sum(exp_preds)\n",
    "    probas = np.random.multinomial(1, preds, 1)\n",
    "    return np.argmax(probas)"
   ]
  },
  {
   "cell_type": "code",
   "execution_count": 55,
   "metadata": {
    "collapsed": false
   },
   "outputs": [
    {
     "name": "stdout",
     "output_type": "stream",
     "text": [
      "\n",
      "We're going to Make America Great Again \n",
      "of kings, That where did do the world know'st thought in the crown, that I lead the busty \n",
      "I great houre and detend, then the commander of the son of noble did non, the blord of that I part the hand are \n",
      "O, past was for the settle find honour in mare thee and the stand of The king \n",
      "When the farewalp the dingst of the kenther and not may mean, and in the counter \n",
      "What is you the couds, That wherefo"
     ]
    }
   ],
   "source": [
    "# Here's the fun part.\n",
    "# Exercise. Person with the funniest output wins.\n",
    "\n",
    "# Initialisation\n",
    "generated = ''\n",
    "\n",
    "# The seed of the text generation. Feel free to change this,\n",
    "# but make sure it's at least 40 characters:\n",
    "sentence = \"We're going to Make America Great Again \"\n",
    "\n",
    "# Number of characters to generate following the seed.\n",
    "# Try a whole essay!\n",
    "length = 400\n",
    "\n",
    "# The \"temperature\" determines how diverse the generated text is.\n",
    "# It just reweights the output probabilities from the network.\n",
    "# A lower temperature will be more conservative,\n",
    "# whereas a higher temperature will be more diverse,\n",
    "# but probably stop making sense.\n",
    "temperature = 0.7\n",
    "\n",
    "# Below here is boilerplate to output the generated text.\n",
    "sentence = sentence[-40:] # take only the last 40 characters to begin generation.\n",
    "generated += sentence\n",
    "\n",
    "print()\n",
    "sys.stdout.write(generated)\n",
    "print()\n",
    "prev_char = ''\n",
    "for i in range(length):\n",
    "    x = np.zeros((1, seqlen, len(chars)))\n",
    "    for t, char in enumerate(sentence):\n",
    "        x[0, t, char_indices[char]] = 1.\n",
    "\n",
    "    preds = model.predict(x, verbose=0)[0]\n",
    "    next_index = sample(preds, temperature)\n",
    "    next_char = indices_char[next_index]\n",
    "    \n",
    "    generated += next_char\n",
    "    sentence = sentence[1:] + next_char\n",
    "    \n",
    "    # This is because I did not preprocess the text optimally,\n",
    "    # so it doesn't know about full stops. Alas now it sometimes\n",
    "    # spits out strings of newlines.\n",
    "    if prev_char == ' ' and next_char == ' ':\n",
    "        sys.stdout.write('\\n')\n",
    "    else:\n",
    "        sys.stdout.write(next_char)\n",
    "    prev_char = next_char\n",
    "    sys.stdout.flush()"
   ]
  },
  {
   "cell_type": "markdown",
   "metadata": {},
   "source": [
    "# Congrats"
   ]
  },
  {
   "cell_type": "markdown",
   "metadata": {},
   "source": [
    "I hope you learned something. I was blown away the first time I saw how good language generation at the  _character_ level could be. I leave some links for further reading below. Any follow up questions, I can be contacted on twitter [@bitcollider_io](https://twitter.com/bitcollider_io), or drop me a mail at\n",
    "\n",
    "`<my first name (5 characters)>@bitcollider.io`\n",
    "\n",
    "(Gotta avoid those spammers scraping GitHub)."
   ]
  },
  {
   "cell_type": "markdown",
   "metadata": {},
   "source": [
    "Getting started:\n",
    "- [Neural Networks and Deep Learning](http://neuralnetworksanddeeplearning.com/)\n",
    "- [Hacker's Guide to Neural Networks](http://karpathy.github.io/neuralnets/)\n",
    "\n",
    "Further reading on RNNs:\n",
    "- [The Unreasonable Effectiveness of Recurrent Neural Networks](http://karpathy.github.io/2015/05/21/rnn-effectiveness/)\n",
    "- [Deep Learning, NLP, and Representations](http://colah.github.io/posts/2014-07-NLP-RNNs-Representations/)\n",
    "- [Understanding LSTM Networks](http://colah.github.io/posts/2015-08-Understanding-LSTMs/)\n",
    "- [WildML RNN tutorial](http://www.wildml.com/2015/09/recurrent-neural-networks-tutorial-part-1-introduction-to-rnns/)\n",
    "    \n",
    "Libraries\n",
    "- [TensorFlow](https://www.tensorflow.org/)\n",
    "- [Keras](https://keras.io/)\n",
    "- [PyTorch](http://pytorch.org/)"
   ]
  },
  {
   "cell_type": "code",
   "execution_count": null,
   "metadata": {
    "collapsed": true
   },
   "outputs": [],
   "source": []
  }
 ],
 "metadata": {
  "kernelspec": {
   "display_name": "Python 3",
   "language": "python",
   "name": "python3"
  },
  "language_info": {
   "codemirror_mode": {
    "name": "ipython",
    "version": 3
   },
   "file_extension": ".py",
   "mimetype": "text/x-python",
   "name": "python",
   "nbconvert_exporter": "python",
   "pygments_lexer": "ipython3",
   "version": "3.5.2"
  }
 },
 "nbformat": 4,
 "nbformat_minor": 2
}
