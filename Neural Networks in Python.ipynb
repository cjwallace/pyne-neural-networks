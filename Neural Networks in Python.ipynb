{
 "cells": [
  {
   "cell_type": "code",
   "execution_count": 7,
   "metadata": {
    "collapsed": false,
    "deletable": true,
    "editable": true,
    "slideshow": {
     "slide_type": "skip"
    }
   },
   "outputs": [],
   "source": [
    "%matplotlib inline\n",
    "import matplotlib.pyplot as plt\n",
    "\n",
    "import sys"
   ]
  },
  {
   "cell_type": "markdown",
   "metadata": {
    "slideshow": {
     "slide_type": "slide"
    }
   },
   "source": [
    "# Neural Networks\n",
    "\n",
    "\n",
    "---\n",
    "\n",
    "### Chris J. Wallace\n",
    "\n",
    "[`@bitcollider_io`](https://twitter.com/bitcollider_io)"
   ]
  },
  {
   "cell_type": "markdown",
   "metadata": {
    "slideshow": {
     "slide_type": "slide"
    }
   },
   "source": [
    "## I'm Chris\n",
    "\n",
    "- I work for <span style=\"color:#4e85b2;\">Gower Street Analytics</span>.\n",
    "- Forecasting as a service for movie box office.\n",
    "- Donated compute to this talk, thanks."
   ]
  },
  {
   "cell_type": "markdown",
   "metadata": {
    "slideshow": {
     "slide_type": "slide"
    }
   },
   "source": [
    "## What is ML?\n",
    "\n",
    "- Basically, using math and a computer to figure things out.\n",
    "- Sits somewhere in the intersection of:\n",
    "  - <span style=\"color:#8ad849;\">probability</span>\n",
    "  - <span style=\"color:#4e85b2;\">computers</span>\n",
    "  - <span style=\"color:#e2683f;\">optimization</span>\n",
    "- Make decisions based on data."
   ]
  },
  {
   "cell_type": "markdown",
   "metadata": {
    "slideshow": {
     "slide_type": "slide"
    }
   },
   "source": [
    "## ML in broad strokes\n",
    "\n",
    "- Supervised learning.\n",
    "    - <span style=\"color:#4e85b2;\">There's a training set.</span>\n",
    "\n",
    "- Unsupervised learning.\n",
    "    - <span style=\"color:#4e85b2;\">There's just the data.</span>\n",
    "\n",
    "- Reinforcement learning.\n",
    "    - <span style=\"color:#4e85b2;\">You are standing in an open field west of a white house, with a boarded front door. There is a small mailbox here.</span>\n",
    "      <br>\n",
    "      <span style=\"color:#4e85b2;\">\n",
    "        \\> go north\n",
    "      </span>"
   ]
  },
  {
   "cell_type": "markdown",
   "metadata": {
    "slideshow": {
     "slide_type": "slide"
    }
   },
   "source": [
    "## 3 exciting things\n",
    "\n",
    "- Probabilistic programming.\n",
    "- Bayesian machine learning and generative models.\n",
    "- <span style=\"color:#4e85b2;\">Deep neural networks</span>."
   ]
  },
  {
   "cell_type": "markdown",
   "metadata": {
    "slideshow": {
     "slide_type": "slide"
    }
   },
   "source": [
    "## Neural networks\n",
    "\n",
    "- Biologically _**<span style=\"color:#4e85b2;\">inspired</span>**_.\n",
    "- Network structure + learning algorithm.\n",
    "- Universal function approximator."
   ]
  },
  {
   "cell_type": "markdown",
   "metadata": {
    "slideshow": {
     "slide_type": "slide"
    }
   },
   "source": [
    "<img src=\"img/big_net.png\" style=\"margin:auto\">"
   ]
  },
  {
   "cell_type": "markdown",
   "metadata": {
    "slideshow": {
     "slide_type": "slide"
    }
   },
   "source": [
    "<img src=\"img/single_neuron.png\" style=\"margin:auto\">"
   ]
  },
  {
   "cell_type": "markdown",
   "metadata": {
    "slideshow": {
     "slide_type": "slide"
    }
   },
   "source": [
    "<img src=\"img/single_neuron_weights.png\" style=\"margin:auto\">"
   ]
  },
  {
   "cell_type": "code",
   "execution_count": 2,
   "metadata": {
    "collapsed": true,
    "deletable": true,
    "editable": true,
    "slideshow": {
     "slide_type": "slide"
    }
   },
   "outputs": [],
   "source": [
    "def very_simple_network(input_1, input_2):\n",
    "    weight_1 = 1\n",
    "    weight_2 = 1\n",
    "    bias = 0\n",
    "    activation = input_1*weight_1 + input_2*weight_2 + bias\n",
    "    output = 1 if activation > 0 else 0\n",
    "    return output\n",
    "\n",
    "# Exercise: try combinations of inputs and see what the output is.\n",
    "# In particular, try combining boolean inputs.\n",
    "# What does this network represent?"
   ]
  },
  {
   "cell_type": "code",
   "execution_count": 3,
   "metadata": {
    "collapsed": false,
    "slideshow": {
     "slide_type": "fragment"
    }
   },
   "outputs": [
    {
     "name": "stdout",
     "output_type": "stream",
     "text": [
      "input: 0,0   output: 0\n",
      "input: 1,0   output: 1\n",
      "input: 0,1   output: 1\n",
      "input: 1,1   output: 1\n"
     ]
    }
   ],
   "source": [
    "print(\"input: 0,0   output: \" + str(very_simple_network(0,0)))\n",
    "print(\"input: 1,0   output: \" + str(very_simple_network(1,0)))\n",
    "print(\"input: 0,1   output: \" + str(very_simple_network(0,1)))\n",
    "print(\"input: 1,1   output: \" + str(very_simple_network(1,1)))"
   ]
  },
  {
   "cell_type": "code",
   "execution_count": 4,
   "metadata": {
    "collapsed": true,
    "slideshow": {
     "slide_type": "slide"
    }
   },
   "outputs": [],
   "source": [
    "def another_simple_network(input_1, input_2):\n",
    "    weight_1 = -2\n",
    "    weight_2 = -2\n",
    "    bias = 3\n",
    "    activation = input_1*weight_1 + input_2*weight_2 + bias\n",
    "    output = 1 if activation > 0 else 0\n",
    "    return output\n",
    "\n",
    "# Exercise: Try combinations of boolean inputs again.\n",
    "# What kind of logic gate does this network represent?\n",
    "# What is the significance of that?"
   ]
  },
  {
   "cell_type": "code",
   "execution_count": 5,
   "metadata": {
    "collapsed": false,
    "slideshow": {
     "slide_type": "fragment"
    }
   },
   "outputs": [
    {
     "name": "stdout",
     "output_type": "stream",
     "text": [
      "input: 0,0   output: 1\n",
      "input: 1,0   output: 1\n",
      "input: 0,1   output: 1\n",
      "input: 1,1   output: 0\n"
     ]
    }
   ],
   "source": [
    "print(\"input: 0,0   output: \" + str(another_simple_network(0,0)))\n",
    "print(\"input: 1,0   output: \" + str(another_simple_network(1,0)))\n",
    "print(\"input: 0,1   output: \" + str(another_simple_network(0,1)))\n",
    "print(\"input: 1,1   output: \" + str(another_simple_network(1,1)))"
   ]
  },
  {
   "cell_type": "markdown",
   "metadata": {
    "slideshow": {
     "slide_type": "slide"
    }
   },
   "source": [
    "## Logic gates\n",
    "\n",
    "- So combinations of neural networks with the right weights and bias can represent any logic gate!\n",
    "- One of the differences between a logic gate and a neural net is that nets aren't limited to boolean input and output.\n",
    "- Before we continue, we'll introduce a notational trick.\n",
    "\n",
    "    [neuralnetworksanddeeplearning.com](http://neuralnetworksanddeeplearning.com/)"
   ]
  },
  {
   "cell_type": "markdown",
   "metadata": {
    "slideshow": {
     "slide_type": "slide"
    }
   },
   "source": [
    "<img src=\"img/single_neuron_step.png\" style=\"margin:auto\">"
   ]
  },
  {
   "cell_type": "markdown",
   "metadata": {
    "slideshow": {
     "slide_type": "slide"
    }
   },
   "source": [
    "## Bye bias\n",
    "\n",
    "- Let's call the weights `w`, the inputs `x` and the outputs `y`.\n",
    "- We can actually get rid of the bias term by introducing a dummy input that is always = 1.\n",
    "- Now, `activation` is just equal to `w*x`, where the operation happens _elementwise_."
   ]
  },
  {
   "cell_type": "code",
   "execution_count": 6,
   "metadata": {
    "collapsed": true,
    "slideshow": {
     "slide_type": "slide"
    }
   },
   "outputs": [],
   "source": [
    "# elementwise addition:\n",
    "\n",
    "vector_1 = [1,2,3,4,5]\n",
    "vector_2 = [1,2,3,4,5]\n",
    "output_vector = [2,4,6,8,10]\n",
    "\n",
    "def elementwise_add(v1,v2):\n",
    "    # Exercise. Write a function that takes vector_1\n",
    "    # and vector_2 and outputs output_vector.\n",
    "    return out"
   ]
  },
  {
   "cell_type": "code",
   "execution_count": 7,
   "metadata": {
    "collapsed": false,
    "slideshow": {
     "slide_type": "fragment"
    }
   },
   "outputs": [],
   "source": [
    "def elementwise_add(v1,v2):\n",
    "    out = [x+y for x,y in zip(v1,v2)]\n",
    "    return out\n",
    "\n",
    "# elementwise_add(vector_1,vector_2) == output_vector"
   ]
  },
  {
   "cell_type": "markdown",
   "metadata": {
    "slideshow": {
     "slide_type": "slide"
    }
   },
   "source": [
    "## Tooling - NumPy\n",
    "\n",
    "NumPy is the basis of most of the python scientific computing ecosystem.\n"
   ]
  },
  {
   "cell_type": "code",
   "execution_count": 9,
   "metadata": {
    "collapsed": true,
    "slideshow": {
     "slide_type": "fragment"
    }
   },
   "outputs": [],
   "source": [
    "import numpy as np"
   ]
  },
  {
   "cell_type": "code",
   "execution_count": 9,
   "metadata": {
    "collapsed": false,
    "slideshow": {
     "slide_type": "fragment"
    }
   },
   "outputs": [
    {
     "data": {
      "text/plain": [
       "array([ 2,  4,  6,  8, 10])"
      ]
     },
     "execution_count": 9,
     "metadata": {},
     "output_type": "execute_result"
    }
   ],
   "source": [
    "np.add([1,2,3,4,5],[1,2,3,4,5])"
   ]
  },
  {
   "cell_type": "code",
   "execution_count": 10,
   "metadata": {
    "collapsed": false,
    "slideshow": {
     "slide_type": "fragment"
    }
   },
   "outputs": [
    {
     "name": "stdout",
     "output_type": "stream",
     "text": [
      "[ 2  4  6  8 10]\n",
      "[ 3  6  9 12 15]\n",
      "[ 1  4  9 16 25]\n"
     ]
    }
   ],
   "source": [
    "print(np.array([1,2,3,4,5]) + np.array([1,2,3,4,5]))\n",
    "print(np.array([1,2,3,4,5]) * 3)\n",
    "print(np.array([1,2,3,4,5]) * np.array([1,2,3,4,5]))"
   ]
  },
  {
   "cell_type": "markdown",
   "metadata": {
    "slideshow": {
     "slide_type": "fragment"
    }
   },
   "source": [
    "Won't dwell here. NumPy is great."
   ]
  },
  {
   "cell_type": "markdown",
   "metadata": {
    "slideshow": {
     "slide_type": "slide"
    }
   },
   "source": [
    "## More tooling"
   ]
  },
  {
   "cell_type": "code",
   "execution_count": 4,
   "metadata": {
    "collapsed": false,
    "slideshow": {
     "slide_type": "fragment"
    }
   },
   "outputs": [],
   "source": [
    "from keras.models import Sequential\n",
    "from keras.layers import Dense, Activation, LSTM, Dropout\n",
    "from keras.optimizers import RMSprop"
   ]
  },
  {
   "cell_type": "markdown",
   "metadata": {
    "slideshow": {
     "slide_type": "slide"
    }
   },
   "source": [
    "## Linear function"
   ]
  },
  {
   "cell_type": "code",
   "execution_count": 12,
   "metadata": {
    "collapsed": false,
    "slideshow": {
     "slide_type": "fragment"
    }
   },
   "outputs": [
    {
     "data": {
      "text/plain": [
       "[<matplotlib.lines.Line2D at 0x10e73ebe0>]"
      ]
     },
     "execution_count": 12,
     "metadata": {},
     "output_type": "execute_result"
    },
    {
     "data": {
      "image/png": "[encoded data removed]",
      "text/plain": [
       "<matplotlib.figure.Figure at 0x10e6d02e8>"
      ]
     },
     "metadata": {},
     "output_type": "display_data"
    }
   ],
   "source": [
    "# construct some linear data\n",
    "x = np.linspace(-1,1,201)\n",
    "y = x\n",
    "\n",
    "plt.plot(x,y)"
   ]
  },
  {
   "cell_type": "code",
   "execution_count": 13,
   "metadata": {
    "collapsed": false,
    "slideshow": {
     "slide_type": "slide"
    }
   },
   "outputs": [],
   "source": [
    "single_neuron = Sequential([\n",
    "    Dense(1, input_dim=1)\n",
    "])\n",
    "single_neuron.compile(loss='mean_squared_error', optimizer='sgd')"
   ]
  },
  {
   "cell_type": "markdown",
   "metadata": {
    "slideshow": {
     "slide_type": "slide"
    }
   },
   "source": [
    "<img src=\"img/single_neuron_linear_2.png\" style=\"margin:auto\">"
   ]
  },
  {
   "cell_type": "code",
   "execution_count": 14,
   "metadata": {
    "collapsed": false,
    "slideshow": {
     "slide_type": "slide"
    }
   },
   "outputs": [
    {
     "data": {
      "text/plain": [
       "[<matplotlib.lines.Line2D at 0x10ec10e10>]"
      ]
     },
     "execution_count": 14,
     "metadata": {},
     "output_type": "execute_result"
    },
    {
     "data": {
      "image/png": "[encoded data removed]",
      "text/plain": [
       "<matplotlib.figure.Figure at 0x10ec10780>"
      ]
     },
     "metadata": {},
     "output_type": "display_data"
    }
   ],
   "source": [
    "single_neuron.fit(x, y, nb_epoch=10, verbose=0)\n",
    "y_prime = single_neuron.predict(x)\n",
    "\n",
    "plt.scatter(x, y, alpha=0.1)\n",
    "plt.plot(x, y_prime,color='g')"
   ]
  },
  {
   "cell_type": "markdown",
   "metadata": {
    "slideshow": {
     "slide_type": "slide"
    }
   },
   "source": [
    "<img src=\"img/gradient_descent.png\" style=\"margin:auto\" width=\"750\">"
   ]
  },
  {
   "cell_type": "markdown",
   "metadata": {
    "slideshow": {
     "slide_type": "slide"
    }
   },
   "source": [
    "## Quadratic function"
   ]
  },
  {
   "cell_type": "code",
   "execution_count": 15,
   "metadata": {
    "collapsed": false,
    "slideshow": {
     "slide_type": "fragment"
    }
   },
   "outputs": [
    {
     "data": {
      "text/plain": [
       "[<matplotlib.lines.Line2D at 0x10f063470>]"
      ]
     },
     "execution_count": 15,
     "metadata": {},
     "output_type": "execute_result"
    },
    {
     "data": {
      "image/png": "[encoded data removed]",
      "text/plain": [
       "<matplotlib.figure.Figure at 0x10e9b2da0>"
      ]
     },
     "metadata": {},
     "output_type": "display_data"
    }
   ],
   "source": [
    "y2 = x**2\n",
    "plt.plot(x, y2)"
   ]
  },
  {
   "cell_type": "code",
   "execution_count": 16,
   "metadata": {
    "collapsed": false,
    "slideshow": {
     "slide_type": "fragment"
    }
   },
   "outputs": [
    {
     "data": {
      "text/plain": [
       "<keras.callbacks.History at 0x10f073e80>"
      ]
     },
     "execution_count": 16,
     "metadata": {},
     "output_type": "execute_result"
    }
   ],
   "source": [
    "single_neuron = Sequential([\n",
    "    Dense(1, input_dim=1)\n",
    "])\n",
    "single_neuron.compile(loss='mean_squared_error', optimizer='sgd')\n",
    "single_neuron.fit(x, y2, verbose=0, nb_epoch=100)"
   ]
  },
  {
   "cell_type": "code",
   "execution_count": 17,
   "metadata": {
    "collapsed": false,
    "slideshow": {
     "slide_type": "slide"
    }
   },
   "outputs": [
    {
     "data": {
      "text/plain": [
       "[<matplotlib.lines.Line2D at 0x10f110fd0>]"
      ]
     },
     "execution_count": 17,
     "metadata": {},
     "output_type": "execute_result"
    },
    {
     "data": {
      "image/png": "[encoded data removed]",
      "text/plain": [
       "<matplotlib.figure.Figure at 0x10ec9bb38>"
      ]
     },
     "metadata": {},
     "output_type": "display_data"
    }
   ],
   "source": [
    "y2_prime = single_neuron.predict(x)\n",
    "plt.scatter(x,y2, alpha=0.1)\n",
    "plt.plot(x,y2_prime,color='g')"
   ]
  },
  {
   "cell_type": "code",
   "execution_count": 18,
   "metadata": {
    "collapsed": false,
    "slideshow": {
     "slide_type": "slide"
    }
   },
   "outputs": [
    {
     "data": {
      "text/plain": [
       "<keras.callbacks.History at 0x10f936a58>"
      ]
     },
     "execution_count": 18,
     "metadata": {},
     "output_type": "execute_result"
    }
   ],
   "source": [
    "two_neurons = Sequential([\n",
    "    Dense(2, input_dim=1),\n",
    "    Activation('linear'),\n",
    "    Dense(1)\n",
    "])\n",
    "two_neurons.compile(loss='mean_squared_error', optimizer='rmsprop')\n",
    "two_neurons.fit(x, y2, nb_epoch=1000, verbose=0)"
   ]
  },
  {
   "cell_type": "markdown",
   "metadata": {
    "slideshow": {
     "slide_type": "slide"
    }
   },
   "source": [
    "<img src=\"img/two_layer_net.png\" style=\"margin:auto\">"
   ]
  },
  {
   "cell_type": "code",
   "execution_count": 19,
   "metadata": {
    "collapsed": false,
    "scrolled": true,
    "slideshow": {
     "slide_type": "slide"
    }
   },
   "outputs": [
    {
     "data": {
      "text/plain": [
       "[<matplotlib.lines.Line2D at 0x10e764be0>]"
      ]
     },
     "execution_count": 19,
     "metadata": {},
     "output_type": "execute_result"
    },
    {
     "data": {
      "image/png": "[encoded data removed]",
      "text/plain": [
       "<matplotlib.figure.Figure at 0x10e764f28>"
      ]
     },
     "metadata": {},
     "output_type": "display_data"
    }
   ],
   "source": [
    "y2_prime = two_neurons.predict(x)\n",
    "plt.scatter(x,y2, alpha=0.1)\n",
    "plt.plot(x,y2_prime,color='g')"
   ]
  },
  {
   "cell_type": "markdown",
   "metadata": {
    "slideshow": {
     "slide_type": "slide"
    }
   },
   "source": [
    "![tanh activation](img/single_neuron_tanh.png)"
   ]
  },
  {
   "cell_type": "markdown",
   "metadata": {
    "slideshow": {
     "slide_type": "slide"
    }
   },
   "source": [
    "## Cubic function"
   ]
  },
  {
   "cell_type": "code",
   "execution_count": 20,
   "metadata": {
    "collapsed": false,
    "slideshow": {
     "slide_type": "fragment"
    }
   },
   "outputs": [
    {
     "data": {
      "text/plain": [
       "<matplotlib.collections.PathCollection at 0x10fa6b080>"
      ]
     },
     "execution_count": 20,
     "metadata": {},
     "output_type": "execute_result"
    },
    {
     "data": {
      "image/png": "[encoded data removed]",
      "text/plain": [
       "<matplotlib.figure.Figure at 0x10fa241d0>"
      ]
     },
     "metadata": {},
     "output_type": "display_data"
    }
   ],
   "source": [
    "# generate fake dataset\n",
    "x = np.linspace(-1,1,201)\n",
    "y3 =  x**3\n",
    "plt.scatter(x, y3)"
   ]
  },
  {
   "cell_type": "code",
   "execution_count": 24,
   "metadata": {
    "collapsed": false,
    "slideshow": {
     "slide_type": "slide"
    }
   },
   "outputs": [],
   "source": [
    "cubic_network = Sequential([\n",
    "    Dense(30, input_dim=1),\n",
    "    Activation('tanh'),\n",
    "    Dense(1)\n",
    "])\n",
    "cubic_network.compile(loss='mean_squared_error', optimizer='rmsprop')"
   ]
  },
  {
   "cell_type": "code",
   "execution_count": 25,
   "metadata": {
    "collapsed": false,
    "deletable": true,
    "editable": true,
    "slideshow": {
     "slide_type": "slide"
    }
   },
   "outputs": [
    {
     "name": "stdout",
     "output_type": "stream",
     "text": [
      "Epoch 1/1000\n",
      "0s - loss: 0.0640\n",
      "Epoch 2/1000\n",
      "0s - loss: 0.0279\n",
      "Epoch 3/1000\n",
      "0s - loss: 0.0260\n",
      "Epoch 4/1000\n",
      "0s - loss: 0.0263\n",
      "Epoch 5/1000\n",
      "0s - loss: 0.0270\n",
      "Epoch 6/1000\n",
      "0s - loss: 0.0264\n",
      "Epoch 7/1000\n",
      "0s - loss: 0.0264\n",
      "Epoch 8/1000\n",
      "0s - loss: 0.0261\n",
      "Epoch 9/1000\n",
      "0s - loss: 0.0265\n",
      "Epoch 10/1000\n",
      "0s - loss: 0.0259\n",
      "Epoch 11/1000\n",
      "0s - loss: 0.0265\n",
      "Epoch 12/1000\n",
      "0s - loss: 0.0269\n",
      "Epoch 13/1000\n",
      "0s - loss: 0.0257\n",
      "Epoch 14/1000\n",
      "0s - loss: 0.0260\n",
      "Epoch 15/1000\n",
      "0s - loss: 0.0262\n",
      "Epoch 16/1000\n",
      "0s - loss: 0.0254\n",
      "Epoch 17/1000\n",
      "0s - loss: 0.0266\n",
      "Epoch 18/1000\n",
      "0s - loss: 0.0256\n",
      "Epoch 19/1000\n",
      "0s - loss: 0.0253\n",
      "Epoch 20/1000\n",
      "0s - loss: 0.0256\n",
      "Epoch 21/1000\n",
      "0s - loss: 0.0263\n",
      "Epoch 22/1000\n",
      "0s - loss: 0.0257\n",
      "Epoch 23/1000\n",
      "0s - loss: 0.0262\n",
      "Epoch 24/1000\n",
      "0s - loss: 0.0253\n",
      "Epoch 25/1000\n",
      "0s - loss: 0.0249\n",
      "Epoch 26/1000\n",
      "0s - loss: 0.0254\n",
      "Epoch 27/1000\n",
      "0s - loss: 0.0247\n",
      "Epoch 28/1000\n",
      "0s - loss: 0.0262\n",
      "Epoch 29/1000\n",
      "0s - loss: 0.0253\n",
      "Epoch 30/1000\n",
      "0s - loss: 0.0245\n",
      "Epoch 31/1000\n",
      "0s - loss: 0.0250\n",
      "Epoch 32/1000\n",
      "0s - loss: 0.0254\n",
      "Epoch 33/1000\n",
      "0s - loss: 0.0244\n",
      "Epoch 34/1000\n",
      "0s - loss: 0.0254\n",
      "Epoch 35/1000\n",
      "0s - loss: 0.0248\n",
      "Epoch 36/1000\n",
      "0s - loss: 0.0241\n",
      "Epoch 37/1000\n",
      "0s - loss: 0.0261\n",
      "Epoch 38/1000\n",
      "0s - loss: 0.0248\n",
      "Epoch 39/1000\n",
      "0s - loss: 0.0244\n",
      "Epoch 40/1000\n",
      "0s - loss: 0.0242\n",
      "Epoch 41/1000\n",
      "0s - loss: 0.0255\n",
      "Epoch 42/1000\n",
      "0s - loss: 0.0234\n",
      "Epoch 43/1000\n",
      "0s - loss: 0.0241\n",
      "Epoch 44/1000\n",
      "0s - loss: 0.0250\n",
      "Epoch 45/1000\n",
      "0s - loss: 0.0244\n",
      "Epoch 46/1000\n",
      "0s - loss: 0.0233\n",
      "Epoch 47/1000\n",
      "0s - loss: 0.0234\n",
      "Epoch 48/1000\n",
      "0s - loss: 0.0233\n",
      "Epoch 49/1000\n",
      "0s - loss: 0.0227\n",
      "Epoch 50/1000\n",
      "0s - loss: 0.0236\n",
      "Epoch 51/1000\n",
      "0s - loss: 0.0230\n",
      "Epoch 52/1000\n",
      "0s - loss: 0.0237\n",
      "Epoch 53/1000\n",
      "0s - loss: 0.0224\n",
      "Epoch 54/1000\n",
      "0s - loss: 0.0218\n",
      "Epoch 55/1000\n",
      "0s - loss: 0.0213\n",
      "Epoch 56/1000\n",
      "0s - loss: 0.0225\n",
      "Epoch 57/1000\n",
      "0s - loss: 0.0205\n",
      "Epoch 58/1000\n",
      "0s - loss: 0.0211\n",
      "Epoch 59/1000\n",
      "0s - loss: 0.0205\n",
      "Epoch 60/1000\n",
      "0s - loss: 0.0213\n",
      "Epoch 61/1000\n",
      "0s - loss: 0.0207\n",
      "Epoch 62/1000\n",
      "0s - loss: 0.0195\n",
      "Epoch 63/1000\n",
      "0s - loss: 0.0192\n",
      "Epoch 64/1000\n",
      "0s - loss: 0.0188\n",
      "Epoch 65/1000\n",
      "0s - loss: 0.0176\n",
      "Epoch 66/1000\n",
      "0s - loss: 0.0183\n",
      "Epoch 67/1000\n",
      "0s - loss: 0.0169\n",
      "Epoch 68/1000\n",
      "0s - loss: 0.0172\n",
      "Epoch 69/1000\n",
      "0s - loss: 0.0159\n",
      "Epoch 70/1000\n",
      "0s - loss: 0.0154\n",
      "Epoch 71/1000\n",
      "0s - loss: 0.0156\n",
      "Epoch 72/1000\n",
      "0s - loss: 0.0143\n",
      "Epoch 73/1000\n",
      "0s - loss: 0.0138\n",
      "Epoch 74/1000\n",
      "0s - loss: 0.0137\n",
      "Epoch 75/1000\n",
      "0s - loss: 0.0133\n",
      "Epoch 76/1000\n",
      "0s - loss: 0.0122\n",
      "Epoch 77/1000\n",
      "0s - loss: 0.0117\n",
      "Epoch 78/1000\n",
      "0s - loss: 0.0116\n",
      "Epoch 79/1000\n",
      "0s - loss: 0.0109\n",
      "Epoch 80/1000\n",
      "0s - loss: 0.0115\n",
      "Epoch 81/1000\n",
      "0s - loss: 0.0104\n",
      "Epoch 82/1000\n",
      "0s - loss: 0.0094\n",
      "Epoch 83/1000\n",
      "0s - loss: 0.0091\n",
      "Epoch 84/1000\n",
      "0s - loss: 0.0085\n",
      "Epoch 85/1000\n",
      "0s - loss: 0.0095\n",
      "Epoch 86/1000\n",
      "0s - loss: 0.0080\n",
      "Epoch 87/1000\n",
      "0s - loss: 0.0074\n",
      "Epoch 88/1000\n",
      "0s - loss: 0.0080\n",
      "Epoch 89/1000\n",
      "0s - loss: 0.0072\n",
      "Epoch 90/1000\n",
      "0s - loss: 0.0067\n",
      "Epoch 91/1000\n",
      "0s - loss: 0.0069\n",
      "Epoch 92/1000\n",
      "0s - loss: 0.0062\n",
      "Epoch 93/1000\n",
      "0s - loss: 0.0065\n",
      "Epoch 94/1000\n",
      "0s - loss: 0.0064\n",
      "Epoch 95/1000\n",
      "0s - loss: 0.0058\n",
      "Epoch 96/1000\n",
      "0s - loss: 0.0061\n",
      "Epoch 97/1000\n",
      "0s - loss: 0.0064\n",
      "Epoch 98/1000\n",
      "0s - loss: 0.0072\n",
      "Epoch 99/1000\n",
      "0s - loss: 0.0057\n",
      "Epoch 100/1000\n",
      "0s - loss: 0.0052\n",
      "Epoch 101/1000\n",
      "0s - loss: 0.0055\n",
      "Epoch 102/1000\n",
      "0s - loss: 0.0053\n",
      "Epoch 103/1000\n",
      "0s - loss: 0.0055\n",
      "Epoch 104/1000\n",
      "0s - loss: 0.0062\n",
      "Epoch 105/1000\n",
      "0s - loss: 0.0052\n",
      "Epoch 106/1000\n",
      "0s - loss: 0.0059\n",
      "Epoch 107/1000\n",
      "0s - loss: 0.0056\n",
      "Epoch 108/1000\n",
      "0s - loss: 0.0055\n",
      "Epoch 109/1000\n",
      "0s - loss: 0.0054\n",
      "Epoch 110/1000\n",
      "0s - loss: 0.0053\n",
      "Epoch 111/1000\n",
      "0s - loss: 0.0048\n",
      "Epoch 112/1000\n",
      "0s - loss: 0.0056\n",
      "Epoch 113/1000\n",
      "0s - loss: 0.0051\n",
      "Epoch 114/1000\n",
      "0s - loss: 0.0052\n",
      "Epoch 115/1000\n",
      "0s - loss: 0.0056\n",
      "Epoch 116/1000\n",
      "0s - loss: 0.0049\n",
      "Epoch 117/1000\n",
      "0s - loss: 0.0045\n",
      "Epoch 118/1000\n",
      "0s - loss: 0.0048\n",
      "Epoch 119/1000\n",
      "0s - loss: 0.0052\n",
      "Epoch 120/1000\n",
      "0s - loss: 0.0048\n",
      "Epoch 121/1000\n",
      "0s - loss: 0.0050\n",
      "Epoch 122/1000\n",
      "0s - loss: 0.0046\n",
      "Epoch 123/1000\n",
      "0s - loss: 0.0053\n",
      "Epoch 124/1000\n",
      "0s - loss: 0.0051\n",
      "Epoch 125/1000\n",
      "0s - loss: 0.0044\n",
      "Epoch 126/1000\n",
      "0s - loss: 0.0051\n",
      "Epoch 127/1000\n",
      "0s - loss: 0.0051\n",
      "Epoch 128/1000\n",
      "0s - loss: 0.0045\n",
      "Epoch 129/1000\n",
      "0s - loss: 0.0044\n",
      "Epoch 130/1000\n",
      "0s - loss: 0.0045\n",
      "Epoch 131/1000\n",
      "0s - loss: 0.0046\n",
      "Epoch 132/1000\n",
      "0s - loss: 0.0048\n",
      "Epoch 133/1000\n",
      "0s - loss: 0.0044\n",
      "Epoch 134/1000\n",
      "0s - loss: 0.0047\n",
      "Epoch 135/1000\n",
      "0s - loss: 0.0047\n",
      "Epoch 136/1000\n",
      "0s - loss: 0.0045\n",
      "Epoch 137/1000\n",
      "0s - loss: 0.0042\n",
      "Epoch 138/1000\n",
      "0s - loss: 0.0042\n",
      "Epoch 139/1000\n",
      "0s - loss: 0.0048\n",
      "Epoch 140/1000\n",
      "0s - loss: 0.0044\n",
      "Epoch 141/1000\n",
      "0s - loss: 0.0043\n",
      "Epoch 142/1000\n",
      "0s - loss: 0.0047\n",
      "Epoch 143/1000\n",
      "0s - loss: 0.0044\n",
      "Epoch 144/1000\n",
      "0s - loss: 0.0039\n",
      "Epoch 145/1000\n",
      "0s - loss: 0.0047\n",
      "Epoch 146/1000\n",
      "0s - loss: 0.0039\n",
      "Epoch 147/1000\n",
      "0s - loss: 0.0046\n",
      "Epoch 148/1000\n",
      "0s - loss: 0.0044\n",
      "Epoch 149/1000\n",
      "0s - loss: 0.0049\n",
      "Epoch 150/1000\n",
      "0s - loss: 0.0040\n",
      "Epoch 151/1000\n",
      "0s - loss: 0.0045\n",
      "Epoch 152/1000\n",
      "0s - loss: 0.0042\n",
      "Epoch 153/1000\n",
      "0s - loss: 0.0047\n",
      "Epoch 154/1000\n",
      "0s - loss: 0.0039\n",
      "Epoch 155/1000\n",
      "0s - loss: 0.0048\n",
      "Epoch 156/1000\n",
      "0s - loss: 0.0039\n",
      "Epoch 157/1000\n",
      "0s - loss: 0.0037\n",
      "Epoch 158/1000\n",
      "0s - loss: 0.0042\n",
      "Epoch 159/1000\n",
      "0s - loss: 0.0042\n",
      "Epoch 160/1000\n",
      "0s - loss: 0.0043\n",
      "Epoch 161/1000\n",
      "0s - loss: 0.0043\n",
      "Epoch 162/1000\n",
      "0s - loss: 0.0039\n",
      "Epoch 163/1000\n",
      "0s - loss: 0.0044\n",
      "Epoch 164/1000\n",
      "0s - loss: 0.0036\n",
      "Epoch 165/1000\n",
      "0s - loss: 0.0037\n",
      "Epoch 166/1000\n",
      "0s - loss: 0.0041\n",
      "Epoch 167/1000\n",
      "0s - loss: 0.0040\n",
      "Epoch 168/1000\n",
      "0s - loss: 0.0038\n",
      "Epoch 169/1000\n",
      "0s - loss: 0.0040\n",
      "Epoch 170/1000\n",
      "0s - loss: 0.0033\n",
      "Epoch 171/1000\n",
      "0s - loss: 0.0043\n",
      "Epoch 172/1000\n",
      "0s - loss: 0.0037\n",
      "Epoch 173/1000\n",
      "0s - loss: 0.0034\n",
      "Epoch 174/1000\n",
      "0s - loss: 0.0046\n",
      "Epoch 175/1000\n",
      "0s - loss: 0.0038\n",
      "Epoch 176/1000\n",
      "0s - loss: 0.0037\n",
      "Epoch 177/1000\n",
      "0s - loss: 0.0037\n",
      "Epoch 178/1000\n",
      "0s - loss: 0.0035\n",
      "Epoch 179/1000\n",
      "0s - loss: 0.0032\n",
      "Epoch 180/1000\n",
      "0s - loss: 0.0037\n",
      "Epoch 181/1000\n",
      "0s - loss: 0.0039\n",
      "Epoch 182/1000\n",
      "0s - loss: 0.0036\n",
      "Epoch 183/1000\n",
      "0s - loss: 0.0034\n",
      "Epoch 184/1000\n",
      "0s - loss: 0.0040\n",
      "Epoch 185/1000\n",
      "0s - loss: 0.0035\n",
      "Epoch 186/1000\n",
      "0s - loss: 0.0034\n",
      "Epoch 187/1000\n",
      "0s - loss: 0.0032\n",
      "Epoch 188/1000\n",
      "0s - loss: 0.0042\n",
      "Epoch 189/1000\n",
      "0s - loss: 0.0037\n",
      "Epoch 190/1000\n",
      "0s - loss: 0.0034\n",
      "Epoch 191/1000\n",
      "0s - loss: 0.0039\n",
      "Epoch 192/1000\n",
      "0s - loss: 0.0032\n",
      "Epoch 193/1000\n",
      "0s - loss: 0.0035\n",
      "Epoch 194/1000\n",
      "0s - loss: 0.0032\n",
      "Epoch 195/1000\n",
      "0s - loss: 0.0029\n",
      "Epoch 196/1000\n",
      "0s - loss: 0.0040\n",
      "Epoch 197/1000\n",
      "0s - loss: 0.0034\n",
      "Epoch 198/1000\n",
      "0s - loss: 0.0032\n",
      "Epoch 199/1000\n",
      "0s - loss: 0.0037\n",
      "Epoch 200/1000\n",
      "0s - loss: 0.0033\n",
      "Epoch 201/1000\n",
      "0s - loss: 0.0031\n",
      "Epoch 202/1000\n",
      "0s - loss: 0.0035\n",
      "Epoch 203/1000\n",
      "0s - loss: 0.0035\n",
      "Epoch 204/1000\n",
      "0s - loss: 0.0028\n",
      "Epoch 205/1000\n",
      "0s - loss: 0.0035\n",
      "Epoch 206/1000\n",
      "0s - loss: 0.0029\n",
      "Epoch 207/1000\n",
      "0s - loss: 0.0031\n",
      "Epoch 208/1000\n",
      "0s - loss: 0.0037\n",
      "Epoch 209/1000\n",
      "0s - loss: 0.0033\n",
      "Epoch 210/1000\n",
      "0s - loss: 0.0028\n",
      "Epoch 211/1000\n",
      "0s - loss: 0.0028\n",
      "Epoch 212/1000\n",
      "0s - loss: 0.0032\n",
      "Epoch 213/1000\n",
      "0s - loss: 0.0031\n",
      "Epoch 214/1000\n",
      "0s - loss: 0.0028\n",
      "Epoch 215/1000\n",
      "0s - loss: 0.0030\n",
      "Epoch 216/1000\n",
      "0s - loss: 0.0028\n",
      "Epoch 217/1000\n",
      "0s - loss: 0.0035\n",
      "Epoch 218/1000\n",
      "0s - loss: 0.0030\n",
      "Epoch 219/1000\n",
      "0s - loss: 0.0027\n",
      "Epoch 220/1000\n",
      "0s - loss: 0.0035\n",
      "Epoch 221/1000\n",
      "0s - loss: 0.0025\n",
      "Epoch 222/1000\n",
      "0s - loss: 0.0032\n",
      "Epoch 223/1000\n",
      "0s - loss: 0.0033\n",
      "Epoch 224/1000\n",
      "0s - loss: 0.0036\n",
      "Epoch 225/1000\n",
      "0s - loss: 0.0036\n",
      "Epoch 226/1000\n",
      "0s - loss: 0.0024\n",
      "Epoch 227/1000\n",
      "0s - loss: 0.0029\n",
      "Epoch 228/1000\n",
      "0s - loss: 0.0025\n",
      "Epoch 229/1000\n",
      "0s - loss: 0.0027\n",
      "Epoch 230/1000\n",
      "0s - loss: 0.0026\n",
      "Epoch 231/1000\n",
      "0s - loss: 0.0030\n",
      "Epoch 232/1000\n",
      "0s - loss: 0.0028\n",
      "Epoch 233/1000\n",
      "0s - loss: 0.0028\n",
      "Epoch 234/1000\n",
      "0s - loss: 0.0025\n",
      "Epoch 235/1000\n",
      "0s - loss: 0.0033\n",
      "Epoch 236/1000\n",
      "0s - loss: 0.0027\n",
      "Epoch 237/1000\n",
      "0s - loss: 0.0026\n",
      "Epoch 238/1000\n",
      "0s - loss: 0.0030\n",
      "Epoch 239/1000\n",
      "0s - loss: 0.0031\n",
      "Epoch 240/1000\n",
      "0s - loss: 0.0026\n",
      "Epoch 241/1000\n",
      "0s - loss: 0.0028\n",
      "Epoch 242/1000\n",
      "0s - loss: 0.0027\n",
      "Epoch 243/1000\n",
      "0s - loss: 0.0024\n",
      "Epoch 244/1000\n",
      "0s - loss: 0.0034\n",
      "Epoch 245/1000\n",
      "0s - loss: 0.0024\n",
      "Epoch 246/1000\n",
      "0s - loss: 0.0024\n",
      "Epoch 247/1000\n",
      "0s - loss: 0.0033\n",
      "Epoch 248/1000\n",
      "0s - loss: 0.0028\n",
      "Epoch 249/1000\n",
      "0s - loss: 0.0023\n",
      "Epoch 250/1000\n",
      "0s - loss: 0.0024\n",
      "Epoch 251/1000\n",
      "0s - loss: 0.0031\n",
      "Epoch 252/1000\n",
      "0s - loss: 0.0023\n",
      "Epoch 253/1000\n",
      "0s - loss: 0.0029\n",
      "Epoch 254/1000\n",
      "0s - loss: 0.0026\n",
      "Epoch 255/1000\n",
      "0s - loss: 0.0022\n",
      "Epoch 256/1000\n",
      "0s - loss: 0.0030\n",
      "Epoch 257/1000\n",
      "0s - loss: 0.0025\n",
      "Epoch 258/1000\n",
      "0s - loss: 0.0023\n",
      "Epoch 259/1000\n",
      "0s - loss: 0.0021\n",
      "Epoch 260/1000\n",
      "0s - loss: 0.0029\n",
      "Epoch 261/1000\n",
      "0s - loss: 0.0022\n",
      "Epoch 262/1000\n",
      "0s - loss: 0.0024\n",
      "Epoch 263/1000\n",
      "0s - loss: 0.0031\n",
      "Epoch 264/1000\n",
      "0s - loss: 0.0022\n",
      "Epoch 265/1000\n",
      "0s - loss: 0.0027\n",
      "Epoch 266/1000\n",
      "0s - loss: 0.0027\n",
      "Epoch 267/1000\n",
      "0s - loss: 0.0023\n",
      "Epoch 268/1000\n",
      "0s - loss: 0.0021\n",
      "Epoch 269/1000\n",
      "0s - loss: 0.0030\n",
      "Epoch 270/1000\n",
      "0s - loss: 0.0028\n",
      "Epoch 271/1000\n",
      "0s - loss: 0.0025\n",
      "Epoch 272/1000\n",
      "0s - loss: 0.0023\n",
      "Epoch 273/1000\n",
      "0s - loss: 0.0022\n",
      "Epoch 274/1000\n",
      "0s - loss: 0.0027\n",
      "Epoch 275/1000\n",
      "0s - loss: 0.0025\n",
      "Epoch 276/1000\n",
      "0s - loss: 0.0021\n",
      "Epoch 277/1000\n",
      "0s - loss: 0.0021\n",
      "Epoch 278/1000\n",
      "0s - loss: 0.0020\n",
      "Epoch 279/1000\n",
      "0s - loss: 0.0030\n",
      "Epoch 280/1000\n",
      "0s - loss: 0.0025\n",
      "Epoch 281/1000\n",
      "0s - loss: 0.0024\n",
      "Epoch 282/1000\n",
      "0s - loss: 0.0023\n",
      "Epoch 283/1000\n",
      "0s - loss: 0.0023\n",
      "Epoch 284/1000\n",
      "0s - loss: 0.0024\n",
      "Epoch 285/1000\n",
      "0s - loss: 0.0029\n",
      "Epoch 286/1000\n",
      "0s - loss: 0.0019\n",
      "Epoch 287/1000\n",
      "0s - loss: 0.0026\n",
      "Epoch 288/1000\n",
      "0s - loss: 0.0024\n",
      "Epoch 289/1000\n",
      "0s - loss: 0.0022\n",
      "Epoch 290/1000\n",
      "0s - loss: 0.0022\n",
      "Epoch 291/1000\n",
      "0s - loss: 0.0022\n",
      "Epoch 292/1000\n",
      "0s - loss: 0.0029\n",
      "Epoch 293/1000\n",
      "0s - loss: 0.0023\n",
      "Epoch 294/1000\n",
      "0s - loss: 0.0022\n",
      "Epoch 295/1000\n",
      "0s - loss: 0.0024\n",
      "Epoch 296/1000\n",
      "0s - loss: 0.0023\n",
      "Epoch 297/1000\n",
      "0s - loss: 0.0021\n",
      "Epoch 298/1000\n",
      "0s - loss: 0.0025\n",
      "Epoch 299/1000\n",
      "0s - loss: 0.0020\n",
      "Epoch 300/1000\n",
      "0s - loss: 0.0018\n",
      "Epoch 301/1000\n",
      "0s - loss: 0.0025\n",
      "Epoch 302/1000\n",
      "0s - loss: 0.0023\n",
      "Epoch 303/1000\n",
      "0s - loss: 0.0021\n",
      "Epoch 304/1000\n",
      "0s - loss: 0.0027\n",
      "Epoch 305/1000\n",
      "0s - loss: 0.0020\n",
      "Epoch 306/1000\n",
      "0s - loss: 0.0028\n",
      "Epoch 307/1000\n",
      "0s - loss: 0.0021\n",
      "Epoch 308/1000\n",
      "0s - loss: 0.0025\n",
      "Epoch 309/1000\n",
      "0s - loss: 0.0025\n",
      "Epoch 310/1000\n",
      "0s - loss: 0.0022\n",
      "Epoch 311/1000\n",
      "0s - loss: 0.0021\n",
      "Epoch 312/1000\n",
      "0s - loss: 0.0021\n",
      "Epoch 313/1000\n",
      "0s - loss: 0.0025\n",
      "Epoch 314/1000\n",
      "0s - loss: 0.0025\n",
      "Epoch 315/1000\n",
      "0s - loss: 0.0027\n",
      "Epoch 316/1000\n",
      "0s - loss: 0.0020\n",
      "Epoch 317/1000\n",
      "0s - loss: 0.0022\n",
      "Epoch 318/1000\n",
      "0s - loss: 0.0023\n",
      "Epoch 319/1000\n",
      "0s - loss: 0.0021\n",
      "Epoch 320/1000\n",
      "0s - loss: 0.0020\n",
      "Epoch 321/1000\n",
      "0s - loss: 0.0021\n",
      "Epoch 322/1000\n",
      "0s - loss: 0.0023\n",
      "Epoch 323/1000\n",
      "0s - loss: 0.0020\n",
      "Epoch 324/1000\n",
      "0s - loss: 0.0020\n",
      "Epoch 325/1000\n",
      "0s - loss: 0.0024\n",
      "Epoch 326/1000\n",
      "0s - loss: 0.0023\n",
      "Epoch 327/1000\n",
      "0s - loss: 0.0022\n",
      "Epoch 328/1000\n",
      "0s - loss: 0.0027\n",
      "Epoch 329/1000\n",
      "0s - loss: 0.0020\n",
      "Epoch 330/1000\n",
      "0s - loss: 0.0020\n",
      "Epoch 331/1000\n",
      "0s - loss: 0.0027\n",
      "Epoch 332/1000\n",
      "0s - loss: 0.0019\n",
      "Epoch 333/1000\n",
      "0s - loss: 0.0023\n",
      "Epoch 334/1000\n",
      "0s - loss: 0.0020\n",
      "Epoch 335/1000\n",
      "0s - loss: 0.0023\n",
      "Epoch 336/1000\n",
      "0s - loss: 0.0023\n",
      "Epoch 337/1000\n",
      "0s - loss: 0.0024\n",
      "Epoch 338/1000\n",
      "0s - loss: 0.0018\n",
      "Epoch 339/1000\n",
      "0s - loss: 0.0025\n",
      "Epoch 340/1000\n",
      "0s - loss: 0.0019\n",
      "Epoch 341/1000\n",
      "0s - loss: 0.0035\n",
      "Epoch 342/1000\n",
      "0s - loss: 0.0023\n",
      "Epoch 343/1000\n",
      "0s - loss: 0.0023\n",
      "Epoch 344/1000\n",
      "0s - loss: 0.0020\n",
      "Epoch 345/1000\n",
      "0s - loss: 0.0022\n",
      "Epoch 346/1000\n",
      "0s - loss: 0.0018\n",
      "Epoch 347/1000\n",
      "0s - loss: 0.0024\n",
      "Epoch 348/1000\n",
      "0s - loss: 0.0028\n",
      "Epoch 349/1000\n",
      "0s - loss: 0.0022\n",
      "Epoch 350/1000\n",
      "0s - loss: 0.0025\n",
      "Epoch 351/1000\n",
      "0s - loss: 0.0023\n",
      "Epoch 352/1000\n",
      "0s - loss: 0.0023\n",
      "Epoch 353/1000\n",
      "0s - loss: 0.0022\n",
      "Epoch 354/1000\n",
      "0s - loss: 0.0019\n",
      "Epoch 355/1000\n",
      "0s - loss: 0.0028\n",
      "Epoch 356/1000\n",
      "0s - loss: 0.0017\n",
      "Epoch 357/1000\n",
      "0s - loss: 0.0028\n",
      "Epoch 358/1000\n",
      "0s - loss: 0.0022\n",
      "Epoch 359/1000\n",
      "0s - loss: 0.0019\n",
      "Epoch 360/1000\n",
      "0s - loss: 0.0019\n",
      "Epoch 361/1000\n",
      "0s - loss: 0.0026\n",
      "Epoch 362/1000\n",
      "0s - loss: 0.0019\n",
      "Epoch 363/1000\n",
      "0s - loss: 0.0018\n",
      "Epoch 364/1000\n",
      "0s - loss: 0.0024\n",
      "Epoch 365/1000\n",
      "0s - loss: 0.0021\n",
      "Epoch 366/1000\n",
      "0s - loss: 0.0026\n",
      "Epoch 367/1000\n",
      "0s - loss: 0.0019\n",
      "Epoch 368/1000\n",
      "0s - loss: 0.0024\n",
      "Epoch 369/1000\n",
      "0s - loss: 0.0018\n",
      "Epoch 370/1000\n",
      "0s - loss: 0.0021\n",
      "Epoch 371/1000\n",
      "0s - loss: 0.0028\n",
      "Epoch 372/1000\n",
      "0s - loss: 0.0018\n",
      "Epoch 373/1000\n",
      "0s - loss: 0.0019\n",
      "Epoch 374/1000\n",
      "0s - loss: 0.0018\n",
      "Epoch 375/1000\n",
      "0s - loss: 0.0023\n",
      "Epoch 376/1000\n",
      "0s - loss: 0.0018\n",
      "Epoch 377/1000\n",
      "0s - loss: 0.0023\n",
      "Epoch 378/1000\n",
      "0s - loss: 0.0018\n",
      "Epoch 379/1000\n",
      "0s - loss: 0.0018\n",
      "Epoch 380/1000\n",
      "0s - loss: 0.0019\n",
      "Epoch 381/1000\n",
      "0s - loss: 0.0027\n",
      "Epoch 382/1000\n",
      "0s - loss: 0.0022\n",
      "Epoch 383/1000\n",
      "0s - loss: 0.0019\n",
      "Epoch 384/1000\n",
      "0s - loss: 0.0026\n",
      "Epoch 385/1000\n",
      "0s - loss: 0.0018\n",
      "Epoch 386/1000\n",
      "0s - loss: 0.0022\n",
      "Epoch 387/1000\n",
      "0s - loss: 0.0024\n",
      "Epoch 388/1000\n",
      "0s - loss: 0.0020\n",
      "Epoch 389/1000\n",
      "0s - loss: 0.0023\n",
      "Epoch 390/1000\n",
      "0s - loss: 0.0029\n",
      "Epoch 391/1000\n",
      "0s - loss: 0.0022\n",
      "Epoch 392/1000\n",
      "0s - loss: 0.0027\n",
      "Epoch 393/1000\n",
      "0s - loss: 0.0020\n",
      "Epoch 394/1000\n",
      "0s - loss: 0.0019\n",
      "Epoch 395/1000\n",
      "0s - loss: 0.0027\n",
      "Epoch 396/1000\n",
      "0s - loss: 0.0023\n",
      "Epoch 397/1000\n",
      "0s - loss: 0.0019\n",
      "Epoch 398/1000\n",
      "0s - loss: 0.0023\n",
      "Epoch 399/1000\n",
      "0s - loss: 0.0021\n",
      "Epoch 400/1000\n",
      "0s - loss: 0.0018\n",
      "Epoch 401/1000\n",
      "0s - loss: 0.0025\n",
      "Epoch 402/1000\n",
      "0s - loss: 0.0018\n",
      "Epoch 403/1000\n",
      "0s - loss: 0.0017\n",
      "Epoch 404/1000\n",
      "0s - loss: 0.0024\n",
      "Epoch 405/1000\n",
      "0s - loss: 0.0024\n",
      "Epoch 406/1000\n",
      "0s - loss: 0.0020\n",
      "Epoch 407/1000\n",
      "0s - loss: 0.0017\n",
      "Epoch 408/1000\n",
      "0s - loss: 0.0017\n",
      "Epoch 409/1000\n",
      "0s - loss: 0.0031\n",
      "Epoch 410/1000\n",
      "0s - loss: 0.0023\n",
      "Epoch 411/1000\n",
      "0s - loss: 0.0018\n",
      "Epoch 412/1000\n",
      "0s - loss: 0.0025\n",
      "Epoch 413/1000\n",
      "0s - loss: 0.0019\n",
      "Epoch 414/1000\n",
      "0s - loss: 0.0022\n",
      "Epoch 415/1000\n",
      "0s - loss: 0.0017\n",
      "Epoch 416/1000\n",
      "0s - loss: 0.0022\n",
      "Epoch 417/1000\n",
      "0s - loss: 0.0018\n",
      "Epoch 418/1000\n",
      "0s - loss: 0.0020\n",
      "Epoch 419/1000\n",
      "0s - loss: 0.0017\n",
      "Epoch 420/1000\n",
      "0s - loss: 0.0020\n",
      "Epoch 421/1000\n",
      "0s - loss: 0.0020\n",
      "Epoch 422/1000\n",
      "0s - loss: 0.0025\n",
      "Epoch 423/1000\n",
      "0s - loss: 0.0018\n",
      "Epoch 424/1000\n",
      "0s - loss: 0.0018\n",
      "Epoch 425/1000\n",
      "0s - loss: 0.0023\n",
      "Epoch 426/1000\n",
      "0s - loss: 0.0016\n",
      "Epoch 427/1000\n",
      "0s - loss: 0.0027\n",
      "Epoch 428/1000\n",
      "0s - loss: 0.0017\n",
      "Epoch 429/1000\n",
      "0s - loss: 0.0022\n",
      "Epoch 430/1000\n",
      "0s - loss: 0.0018\n",
      "Epoch 431/1000\n",
      "0s - loss: 0.0023\n",
      "Epoch 432/1000\n",
      "0s - loss: 0.0017\n",
      "Epoch 433/1000\n",
      "0s - loss: 0.0020\n",
      "Epoch 434/1000\n",
      "0s - loss: 0.0016\n",
      "Epoch 435/1000\n",
      "0s - loss: 0.0025\n",
      "Epoch 436/1000\n",
      "0s - loss: 0.0016\n",
      "Epoch 437/1000\n",
      "0s - loss: 0.0025\n",
      "Epoch 438/1000\n",
      "0s - loss: 0.0022\n",
      "Epoch 439/1000\n",
      "0s - loss: 0.0017\n",
      "Epoch 440/1000\n",
      "0s - loss: 0.0023\n",
      "Epoch 441/1000\n",
      "0s - loss: 0.0021\n",
      "Epoch 442/1000\n",
      "0s - loss: 0.0017\n",
      "Epoch 443/1000\n",
      "0s - loss: 0.0024\n",
      "Epoch 444/1000\n",
      "0s - loss: 0.0021\n",
      "Epoch 445/1000\n",
      "0s - loss: 0.0023\n",
      "Epoch 446/1000\n",
      "0s - loss: 0.0019\n",
      "Epoch 447/1000\n",
      "0s - loss: 0.0018\n",
      "Epoch 448/1000\n",
      "0s - loss: 0.0023\n",
      "Epoch 449/1000\n",
      "0s - loss: 0.0025\n",
      "Epoch 450/1000\n",
      "0s - loss: 0.0020\n",
      "Epoch 451/1000\n",
      "0s - loss: 0.0019\n",
      "Epoch 452/1000\n",
      "0s - loss: 0.0023\n",
      "Epoch 453/1000\n",
      "0s - loss: 0.0018\n",
      "Epoch 454/1000\n",
      "0s - loss: 0.0023\n",
      "Epoch 455/1000\n",
      "0s - loss: 0.0020\n",
      "Epoch 456/1000\n",
      "0s - loss: 0.0016\n",
      "Epoch 457/1000\n",
      "0s - loss: 0.0019\n",
      "Epoch 458/1000\n",
      "0s - loss: 0.0019\n",
      "Epoch 459/1000\n",
      "0s - loss: 0.0026\n",
      "Epoch 460/1000\n",
      "0s - loss: 0.0020\n",
      "Epoch 461/1000\n",
      "0s - loss: 0.0019\n",
      "Epoch 462/1000\n",
      "0s - loss: 0.0024\n",
      "Epoch 463/1000\n",
      "0s - loss: 0.0021\n",
      "Epoch 464/1000\n",
      "0s - loss: 0.0017\n",
      "Epoch 465/1000\n",
      "0s - loss: 0.0024\n",
      "Epoch 466/1000\n",
      "0s - loss: 0.0018\n",
      "Epoch 467/1000\n",
      "0s - loss: 0.0019\n",
      "Epoch 468/1000\n",
      "0s - loss: 0.0022\n",
      "Epoch 469/1000\n",
      "0s - loss: 0.0024\n",
      "Epoch 470/1000\n",
      "0s - loss: 0.0020\n",
      "Epoch 471/1000\n",
      "0s - loss: 0.0018\n",
      "Epoch 472/1000\n",
      "0s - loss: 0.0017\n",
      "Epoch 473/1000\n",
      "0s - loss: 0.0022\n",
      "Epoch 474/1000\n",
      "0s - loss: 0.0017\n",
      "Epoch 475/1000\n",
      "0s - loss: 0.0022\n",
      "Epoch 476/1000\n",
      "0s - loss: 0.0027\n",
      "Epoch 477/1000\n",
      "0s - loss: 0.0016\n",
      "Epoch 478/1000\n",
      "0s - loss: 0.0022\n",
      "Epoch 479/1000\n",
      "0s - loss: 0.0024\n",
      "Epoch 480/1000\n",
      "0s - loss: 0.0019\n",
      "Epoch 481/1000\n",
      "0s - loss: 0.0020\n",
      "Epoch 482/1000\n",
      "0s - loss: 0.0019\n",
      "Epoch 483/1000\n",
      "0s - loss: 0.0020\n",
      "Epoch 484/1000\n",
      "0s - loss: 0.0019\n",
      "Epoch 485/1000\n",
      "0s - loss: 0.0020\n",
      "Epoch 486/1000\n",
      "0s - loss: 0.0025\n",
      "Epoch 487/1000\n",
      "0s - loss: 0.0017\n",
      "Epoch 488/1000\n",
      "0s - loss: 0.0019\n",
      "Epoch 489/1000\n",
      "0s - loss: 0.0015\n",
      "Epoch 490/1000\n",
      "0s - loss: 0.0019\n",
      "Epoch 491/1000\n",
      "0s - loss: 0.0024\n",
      "Epoch 492/1000\n",
      "0s - loss: 0.0018\n",
      "Epoch 493/1000\n",
      "0s - loss: 0.0022\n",
      "Epoch 494/1000\n",
      "0s - loss: 0.0018\n",
      "Epoch 495/1000\n",
      "0s - loss: 0.0026\n",
      "Epoch 496/1000\n",
      "0s - loss: 0.0019\n",
      "Epoch 497/1000\n",
      "0s - loss: 0.0016\n",
      "Epoch 498/1000\n",
      "0s - loss: 0.0019\n",
      "Epoch 499/1000\n",
      "0s - loss: 0.0019\n",
      "Epoch 500/1000\n",
      "0s - loss: 0.0019\n",
      "Epoch 501/1000\n",
      "0s - loss: 0.0016\n",
      "Epoch 502/1000\n",
      "0s - loss: 0.0024\n",
      "Epoch 503/1000\n",
      "0s - loss: 0.0017\n",
      "Epoch 504/1000\n",
      "0s - loss: 0.0021\n",
      "Epoch 505/1000\n",
      "0s - loss: 0.0027\n",
      "Epoch 506/1000\n",
      "0s - loss: 0.0017\n",
      "Epoch 507/1000\n",
      "0s - loss: 0.0019\n",
      "Epoch 508/1000\n",
      "0s - loss: 0.0022\n",
      "Epoch 509/1000\n",
      "0s - loss: 0.0020\n",
      "Epoch 510/1000\n",
      "0s - loss: 0.0015\n",
      "Epoch 511/1000\n",
      "0s - loss: 0.0023\n",
      "Epoch 512/1000\n",
      "0s - loss: 0.0018\n",
      "Epoch 513/1000\n",
      "0s - loss: 0.0026\n",
      "Epoch 514/1000\n",
      "0s - loss: 0.0022\n",
      "Epoch 515/1000\n",
      "0s - loss: 0.0017\n",
      "Epoch 516/1000\n",
      "0s - loss: 0.0016\n",
      "Epoch 517/1000\n",
      "0s - loss: 0.0026\n",
      "Epoch 518/1000\n",
      "0s - loss: 0.0015\n",
      "Epoch 519/1000\n",
      "0s - loss: 0.0020\n",
      "Epoch 520/1000\n",
      "0s - loss: 0.0022\n",
      "Epoch 521/1000\n",
      "0s - loss: 0.0021\n",
      "Epoch 522/1000\n",
      "0s - loss: 0.0016\n",
      "Epoch 523/1000\n",
      "0s - loss: 0.0022\n",
      "Epoch 524/1000\n",
      "0s - loss: 0.0021\n",
      "Epoch 525/1000\n",
      "0s - loss: 0.0022\n",
      "Epoch 526/1000\n",
      "0s - loss: 0.0019\n",
      "Epoch 527/1000\n",
      "0s - loss: 0.0016\n",
      "Epoch 528/1000\n",
      "0s - loss: 0.0018\n",
      "Epoch 529/1000\n",
      "0s - loss: 0.0025\n",
      "Epoch 530/1000\n",
      "0s - loss: 0.0016\n",
      "Epoch 531/1000\n",
      "0s - loss: 0.0014\n",
      "Epoch 532/1000\n",
      "0s - loss: 0.0026\n",
      "Epoch 533/1000\n",
      "0s - loss: 0.0017\n",
      "Epoch 534/1000\n",
      "0s - loss: 0.0018\n",
      "Epoch 535/1000\n",
      "0s - loss: 0.0015\n",
      "Epoch 536/1000\n",
      "0s - loss: 0.0021\n",
      "Epoch 537/1000\n",
      "0s - loss: 0.0015\n",
      "Epoch 538/1000\n",
      "0s - loss: 0.0019\n",
      "Epoch 539/1000\n",
      "0s - loss: 0.0026\n",
      "Epoch 540/1000\n",
      "0s - loss: 0.0020\n",
      "Epoch 541/1000\n",
      "0s - loss: 0.0017\n",
      "Epoch 542/1000\n",
      "0s - loss: 0.0017\n",
      "Epoch 543/1000\n",
      "0s - loss: 0.0018\n",
      "Epoch 544/1000\n",
      "0s - loss: 0.0019\n",
      "Epoch 545/1000\n",
      "0s - loss: 0.0015\n",
      "Epoch 546/1000\n",
      "0s - loss: 0.0018\n",
      "Epoch 547/1000\n",
      "0s - loss: 0.0026\n",
      "Epoch 548/1000\n",
      "0s - loss: 0.0023\n",
      "Epoch 549/1000\n",
      "0s - loss: 0.0017\n",
      "Epoch 550/1000\n",
      "0s - loss: 0.0017\n",
      "Epoch 551/1000\n",
      "0s - loss: 0.0022\n",
      "Epoch 552/1000\n",
      "0s - loss: 0.0017\n",
      "Epoch 553/1000\n",
      "0s - loss: 0.0018\n",
      "Epoch 554/1000\n",
      "0s - loss: 0.0021\n",
      "Epoch 555/1000\n",
      "0s - loss: 0.0022\n",
      "Epoch 556/1000\n",
      "0s - loss: 0.0017\n",
      "Epoch 557/1000\n",
      "0s - loss: 0.0017\n",
      "Epoch 558/1000\n",
      "0s - loss: 0.0018\n",
      "Epoch 559/1000\n",
      "0s - loss: 0.0023\n",
      "Epoch 560/1000\n",
      "0s - loss: 0.0016\n",
      "Epoch 561/1000\n",
      "0s - loss: 0.0021\n",
      "Epoch 562/1000\n",
      "0s - loss: 0.0016\n",
      "Epoch 563/1000\n",
      "0s - loss: 0.0018\n",
      "Epoch 564/1000\n",
      "0s - loss: 0.0018\n",
      "Epoch 565/1000\n",
      "0s - loss: 0.0018\n",
      "Epoch 566/1000\n",
      "0s - loss: 0.0016\n",
      "Epoch 567/1000\n",
      "0s - loss: 0.0024\n",
      "Epoch 568/1000\n",
      "0s - loss: 0.0019\n",
      "Epoch 569/1000\n",
      "0s - loss: 0.0021\n",
      "Epoch 570/1000\n",
      "0s - loss: 0.0015\n",
      "Epoch 571/1000\n",
      "0s - loss: 0.0019\n",
      "Epoch 572/1000\n",
      "0s - loss: 0.0018\n",
      "Epoch 573/1000\n",
      "0s - loss: 0.0016\n",
      "Epoch 574/1000\n",
      "0s - loss: 0.0016\n",
      "Epoch 575/1000\n",
      "0s - loss: 0.0018\n",
      "Epoch 576/1000\n",
      "0s - loss: 0.0023\n",
      "Epoch 577/1000\n",
      "0s - loss: 0.0021\n",
      "Epoch 578/1000\n",
      "0s - loss: 0.0016\n",
      "Epoch 579/1000\n",
      "0s - loss: 0.0020\n",
      "Epoch 580/1000\n",
      "0s - loss: 0.0023\n",
      "Epoch 581/1000\n",
      "0s - loss: 0.0015\n",
      "Epoch 582/1000\n",
      "0s - loss: 0.0014\n",
      "Epoch 583/1000\n",
      "0s - loss: 0.0018\n",
      "Epoch 584/1000\n",
      "0s - loss: 0.0020\n",
      "Epoch 585/1000\n",
      "0s - loss: 0.0021\n",
      "Epoch 586/1000\n",
      "0s - loss: 0.0015\n",
      "Epoch 587/1000\n",
      "0s - loss: 0.0014\n",
      "Epoch 588/1000\n",
      "0s - loss: 0.0022\n",
      "Epoch 589/1000\n",
      "0s - loss: 0.0015\n",
      "Epoch 590/1000\n",
      "0s - loss: 0.0023\n",
      "Epoch 591/1000\n",
      "0s - loss: 0.0015\n",
      "Epoch 592/1000\n",
      "0s - loss: 0.0019\n",
      "Epoch 593/1000\n",
      "0s - loss: 0.0017\n",
      "Epoch 594/1000\n",
      "0s - loss: 0.0020\n",
      "Epoch 595/1000\n",
      "0s - loss: 0.0019\n",
      "Epoch 596/1000\n",
      "0s - loss: 0.0015\n",
      "Epoch 597/1000\n",
      "0s - loss: 0.0014\n",
      "Epoch 598/1000\n",
      "0s - loss: 0.0021\n",
      "Epoch 599/1000\n",
      "0s - loss: 0.0021\n",
      "Epoch 600/1000\n",
      "0s - loss: 0.0018\n",
      "Epoch 601/1000\n",
      "0s - loss: 0.0018\n",
      "Epoch 602/1000\n",
      "0s - loss: 0.0018\n",
      "Epoch 603/1000\n",
      "0s - loss: 0.0018\n",
      "Epoch 604/1000\n",
      "0s - loss: 0.0017\n",
      "Epoch 605/1000\n",
      "0s - loss: 0.0015\n",
      "Epoch 606/1000\n",
      "0s - loss: 0.0023\n",
      "Epoch 607/1000\n",
      "0s - loss: 0.0019\n",
      "Epoch 608/1000\n",
      "0s - loss: 0.0020\n",
      "Epoch 609/1000\n",
      "0s - loss: 0.0023\n",
      "Epoch 610/1000\n",
      "0s - loss: 0.0018\n",
      "Epoch 611/1000\n",
      "0s - loss: 0.0015\n",
      "Epoch 612/1000\n",
      "0s - loss: 0.0021\n",
      "Epoch 613/1000\n",
      "0s - loss: 0.0022\n",
      "Epoch 614/1000\n",
      "0s - loss: 0.0014\n",
      "Epoch 615/1000\n",
      "0s - loss: 0.0019\n",
      "Epoch 616/1000\n",
      "0s - loss: 0.0016\n",
      "Epoch 617/1000\n",
      "0s - loss: 0.0015\n",
      "Epoch 618/1000\n",
      "0s - loss: 0.0024\n",
      "Epoch 619/1000\n",
      "0s - loss: 0.0016\n",
      "Epoch 620/1000\n",
      "0s - loss: 0.0024\n",
      "Epoch 621/1000\n",
      "0s - loss: 0.0014\n",
      "Epoch 622/1000\n",
      "0s - loss: 0.0016\n",
      "Epoch 623/1000\n",
      "0s - loss: 0.0023\n",
      "Epoch 624/1000\n",
      "0s - loss: 0.0016\n",
      "Epoch 625/1000\n",
      "0s - loss: 0.0017\n",
      "Epoch 626/1000\n",
      "0s - loss: 0.0023\n",
      "Epoch 627/1000\n",
      "0s - loss: 0.0018\n",
      "Epoch 628/1000\n",
      "0s - loss: 0.0017\n",
      "Epoch 629/1000\n",
      "0s - loss: 0.0016\n",
      "Epoch 630/1000\n",
      "0s - loss: 0.0016\n",
      "Epoch 631/1000\n",
      "0s - loss: 0.0020\n",
      "Epoch 632/1000\n",
      "0s - loss: 0.0015\n",
      "Epoch 633/1000\n",
      "0s - loss: 0.0021\n",
      "Epoch 634/1000\n",
      "0s - loss: 0.0015\n",
      "Epoch 635/1000\n",
      "0s - loss: 0.0024\n",
      "Epoch 636/1000\n",
      "0s - loss: 0.0015\n",
      "Epoch 637/1000\n",
      "0s - loss: 0.0015\n",
      "Epoch 638/1000\n",
      "0s - loss: 0.0024\n",
      "Epoch 639/1000\n",
      "0s - loss: 0.0018\n",
      "Epoch 640/1000\n",
      "0s - loss: 0.0017\n",
      "Epoch 641/1000\n",
      "0s - loss: 0.0016\n",
      "Epoch 642/1000\n",
      "0s - loss: 0.0016\n",
      "Epoch 643/1000\n",
      "0s - loss: 0.0018\n",
      "Epoch 644/1000\n",
      "0s - loss: 0.0015\n",
      "Epoch 645/1000\n",
      "0s - loss: 0.0015\n",
      "Epoch 646/1000\n",
      "0s - loss: 0.0024\n",
      "Epoch 647/1000\n",
      "0s - loss: 0.0014\n",
      "Epoch 648/1000\n",
      "0s - loss: 0.0015\n",
      "Epoch 649/1000\n",
      "0s - loss: 0.0019\n",
      "Epoch 650/1000\n",
      "0s - loss: 0.0014\n",
      "Epoch 651/1000\n",
      "0s - loss: 0.0022\n",
      "Epoch 652/1000\n",
      "0s - loss: 0.0015\n",
      "Epoch 653/1000\n",
      "0s - loss: 0.0022\n",
      "Epoch 654/1000\n",
      "0s - loss: 0.0016\n",
      "Epoch 655/1000\n",
      "0s - loss: 0.0015\n",
      "Epoch 656/1000\n",
      "0s - loss: 0.0021\n",
      "Epoch 657/1000\n",
      "0s - loss: 0.0016\n",
      "Epoch 658/1000\n",
      "0s - loss: 0.0015\n",
      "Epoch 659/1000\n",
      "0s - loss: 0.0020\n",
      "Epoch 660/1000\n",
      "0s - loss: 0.0022\n",
      "Epoch 661/1000\n",
      "0s - loss: 0.0015\n",
      "Epoch 662/1000\n",
      "0s - loss: 0.0019\n",
      "Epoch 663/1000\n",
      "0s - loss: 0.0015\n",
      "Epoch 664/1000\n",
      "0s - loss: 0.0016\n",
      "Epoch 665/1000\n",
      "0s - loss: 0.0021\n",
      "Epoch 666/1000\n",
      "0s - loss: 0.0016\n",
      "Epoch 667/1000\n",
      "0s - loss: 0.0016\n",
      "Epoch 668/1000\n",
      "0s - loss: 0.0022\n",
      "Epoch 669/1000\n",
      "0s - loss: 0.0016\n",
      "Epoch 670/1000\n",
      "0s - loss: 0.0017\n",
      "Epoch 671/1000\n",
      "0s - loss: 0.0016\n",
      "Epoch 672/1000\n",
      "0s - loss: 0.0019\n",
      "Epoch 673/1000\n",
      "0s - loss: 0.0016\n",
      "Epoch 674/1000\n",
      "0s - loss: 0.0020\n",
      "Epoch 675/1000\n",
      "0s - loss: 0.0019\n",
      "Epoch 676/1000\n",
      "0s - loss: 0.0017\n",
      "Epoch 677/1000\n",
      "0s - loss: 0.0015\n",
      "Epoch 678/1000\n",
      "0s - loss: 0.0020\n",
      "Epoch 679/1000\n",
      "0s - loss: 0.0016\n",
      "Epoch 680/1000\n",
      "0s - loss: 0.0015\n",
      "Epoch 681/1000\n",
      "0s - loss: 0.0021\n",
      "Epoch 682/1000\n",
      "0s - loss: 0.0019\n",
      "Epoch 683/1000\n",
      "0s - loss: 0.0015\n",
      "Epoch 684/1000\n",
      "0s - loss: 0.0021\n",
      "Epoch 685/1000\n",
      "0s - loss: 0.0015\n",
      "Epoch 686/1000\n",
      "0s - loss: 0.0024\n",
      "Epoch 687/1000\n",
      "0s - loss: 0.0016\n",
      "Epoch 688/1000\n",
      "0s - loss: 0.0013\n",
      "Epoch 689/1000\n",
      "0s - loss: 0.0019\n",
      "Epoch 690/1000\n",
      "0s - loss: 0.0020\n",
      "Epoch 691/1000\n",
      "0s - loss: 0.0016\n",
      "Epoch 692/1000\n",
      "0s - loss: 0.0015\n",
      "Epoch 693/1000\n",
      "0s - loss: 0.0016\n",
      "Epoch 694/1000\n",
      "0s - loss: 0.0019\n",
      "Epoch 695/1000\n",
      "0s - loss: 0.0019\n",
      "Epoch 696/1000\n",
      "0s - loss: 0.0021\n",
      "Epoch 697/1000\n",
      "0s - loss: 0.0016\n",
      "Epoch 698/1000\n",
      "0s - loss: 0.0020\n",
      "Epoch 699/1000\n",
      "0s - loss: 0.0020\n",
      "Epoch 700/1000\n",
      "0s - loss: 0.0019\n",
      "Epoch 701/1000\n",
      "0s - loss: 0.0016\n",
      "Epoch 702/1000\n",
      "0s - loss: 0.0018\n",
      "Epoch 703/1000\n",
      "0s - loss: 0.0017\n",
      "Epoch 704/1000\n",
      "0s - loss: 0.0014\n",
      "Epoch 705/1000\n",
      "0s - loss: 0.0021\n",
      "Epoch 706/1000\n",
      "0s - loss: 0.0014\n",
      "Epoch 707/1000\n",
      "0s - loss: 0.0014\n",
      "Epoch 708/1000\n",
      "0s - loss: 0.0023\n",
      "Epoch 709/1000\n",
      "0s - loss: 0.0014\n",
      "Epoch 710/1000\n",
      "0s - loss: 0.0019\n",
      "Epoch 711/1000\n",
      "0s - loss: 0.0015\n",
      "Epoch 712/1000\n",
      "0s - loss: 0.0015\n",
      "Epoch 713/1000\n",
      "0s - loss: 0.0022\n",
      "Epoch 714/1000\n",
      "0s - loss: 0.0014\n",
      "Epoch 715/1000\n",
      "0s - loss: 0.0021\n",
      "Epoch 716/1000\n",
      "0s - loss: 0.0014\n",
      "Epoch 717/1000\n",
      "0s - loss: 0.0014\n",
      "Epoch 718/1000\n",
      "0s - loss: 0.0017\n",
      "Epoch 719/1000\n",
      "0s - loss: 0.0020\n",
      "Epoch 720/1000\n",
      "0s - loss: 0.0014\n",
      "Epoch 721/1000\n",
      "0s - loss: 0.0016\n",
      "Epoch 722/1000\n",
      "0s - loss: 0.0022\n",
      "Epoch 723/1000\n",
      "0s - loss: 0.0018\n",
      "Epoch 724/1000\n",
      "0s - loss: 0.0015\n",
      "Epoch 725/1000\n",
      "0s - loss: 0.0018\n",
      "Epoch 726/1000\n",
      "0s - loss: 0.0020\n",
      "Epoch 727/1000\n",
      "0s - loss: 0.0015\n",
      "Epoch 728/1000\n",
      "0s - loss: 0.0018\n",
      "Epoch 729/1000\n",
      "0s - loss: 0.0015\n",
      "Epoch 730/1000\n",
      "0s - loss: 0.0016\n",
      "Epoch 731/1000\n",
      "0s - loss: 0.0021\n",
      "Epoch 732/1000\n",
      "0s - loss: 0.0018\n",
      "Epoch 733/1000\n",
      "0s - loss: 0.0018\n",
      "Epoch 734/1000\n",
      "0s - loss: 0.0014\n",
      "Epoch 735/1000\n",
      "0s - loss: 0.0021\n",
      "Epoch 736/1000\n",
      "0s - loss: 0.0018\n",
      "Epoch 737/1000\n",
      "0s - loss: 0.0017\n",
      "Epoch 738/1000\n",
      "0s - loss: 0.0014\n",
      "Epoch 739/1000\n",
      "0s - loss: 0.0017\n",
      "Epoch 740/1000\n",
      "0s - loss: 0.0015\n",
      "Epoch 741/1000\n",
      "0s - loss: 0.0019\n",
      "Epoch 742/1000\n",
      "0s - loss: 0.0022\n",
      "Epoch 743/1000\n",
      "0s - loss: 0.0018\n",
      "Epoch 744/1000\n",
      "0s - loss: 0.0017\n",
      "Epoch 745/1000\n",
      "0s - loss: 0.0022\n",
      "Epoch 746/1000\n",
      "0s - loss: 0.0014\n",
      "Epoch 747/1000\n",
      "0s - loss: 0.0015\n",
      "Epoch 748/1000\n",
      "0s - loss: 0.0020\n",
      "Epoch 749/1000\n",
      "0s - loss: 0.0020\n",
      "Epoch 750/1000\n",
      "0s - loss: 0.0017\n",
      "Epoch 751/1000\n",
      "0s - loss: 0.0016\n",
      "Epoch 752/1000\n",
      "0s - loss: 0.0016\n",
      "Epoch 753/1000\n",
      "0s - loss: 0.0014\n",
      "Epoch 754/1000\n",
      "0s - loss: 0.0020\n",
      "Epoch 755/1000\n",
      "0s - loss: 0.0025\n",
      "Epoch 756/1000\n",
      "0s - loss: 0.0015\n",
      "Epoch 757/1000\n",
      "0s - loss: 0.0017\n",
      "Epoch 758/1000\n",
      "0s - loss: 0.0019\n",
      "Epoch 759/1000\n",
      "0s - loss: 0.0016\n",
      "Epoch 760/1000\n",
      "0s - loss: 0.0015\n",
      "Epoch 761/1000\n",
      "0s - loss: 0.0019\n",
      "Epoch 762/1000\n",
      "0s - loss: 0.0014\n",
      "Epoch 763/1000\n",
      "0s - loss: 0.0020\n",
      "Epoch 764/1000\n",
      "0s - loss: 0.0014\n",
      "Epoch 765/1000\n",
      "0s - loss: 0.0019\n",
      "Epoch 766/1000\n",
      "0s - loss: 0.0019\n",
      "Epoch 767/1000\n",
      "0s - loss: 0.0018\n",
      "Epoch 768/1000\n",
      "0s - loss: 0.0017\n",
      "Epoch 769/1000\n",
      "0s - loss: 0.0016\n",
      "Epoch 770/1000\n",
      "0s - loss: 0.0017\n",
      "Epoch 771/1000\n",
      "0s - loss: 0.0016\n",
      "Epoch 772/1000\n",
      "0s - loss: 0.0014\n",
      "Epoch 773/1000\n",
      "0s - loss: 0.0024\n",
      "Epoch 774/1000\n",
      "0s - loss: 0.0013\n",
      "Epoch 775/1000\n",
      "0s - loss: 0.0013\n",
      "Epoch 776/1000\n",
      "0s - loss: 0.0023\n",
      "Epoch 777/1000\n",
      "0s - loss: 0.0014\n",
      "Epoch 778/1000\n",
      "0s - loss: 0.0019\n",
      "Epoch 779/1000\n",
      "0s - loss: 0.0020\n",
      "Epoch 780/1000\n",
      "0s - loss: 0.0014\n",
      "Epoch 781/1000\n",
      "0s - loss: 0.0019\n",
      "Epoch 782/1000\n",
      "0s - loss: 0.0014\n",
      "Epoch 783/1000\n",
      "0s - loss: 0.0019\n",
      "Epoch 784/1000\n",
      "0s - loss: 0.0016\n",
      "Epoch 785/1000\n",
      "0s - loss: 0.0015\n",
      "Epoch 786/1000\n",
      "0s - loss: 0.0013\n",
      "Epoch 787/1000\n",
      "0s - loss: 0.0021\n",
      "Epoch 788/1000\n",
      "0s - loss: 0.0017\n",
      "Epoch 789/1000\n",
      "0s - loss: 0.0018\n",
      "Epoch 790/1000\n",
      "0s - loss: 0.0016\n",
      "Epoch 791/1000\n",
      "0s - loss: 0.0016\n",
      "Epoch 792/1000\n",
      "0s - loss: 0.0013\n",
      "Epoch 793/1000\n",
      "0s - loss: 0.0020\n",
      "Epoch 794/1000\n",
      "0s - loss: 0.0013\n",
      "Epoch 795/1000\n",
      "0s - loss: 0.0024\n",
      "Epoch 796/1000\n",
      "0s - loss: 0.0013\n",
      "Epoch 797/1000\n",
      "0s - loss: 0.0019\n",
      "Epoch 798/1000\n",
      "0s - loss: 0.0020\n",
      "Epoch 799/1000\n",
      "0s - loss: 0.0017\n",
      "Epoch 800/1000\n",
      "0s - loss: 0.0014\n",
      "Epoch 801/1000\n",
      "0s - loss: 0.0020\n",
      "Epoch 802/1000\n",
      "0s - loss: 0.0017\n",
      "Epoch 803/1000\n",
      "0s - loss: 0.0017\n",
      "Epoch 804/1000\n",
      "0s - loss: 0.0018\n",
      "Epoch 805/1000\n",
      "0s - loss: 0.0020\n",
      "Epoch 806/1000\n",
      "0s - loss: 0.0014\n",
      "Epoch 807/1000\n",
      "0s - loss: 0.0015\n",
      "Epoch 808/1000\n",
      "0s - loss: 0.0016\n",
      "Epoch 809/1000\n",
      "0s - loss: 0.0018\n",
      "Epoch 810/1000\n",
      "0s - loss: 0.0014\n",
      "Epoch 811/1000\n",
      "0s - loss: 0.0017\n",
      "Epoch 812/1000\n",
      "0s - loss: 0.0015\n",
      "Epoch 813/1000\n",
      "0s - loss: 0.0013\n",
      "Epoch 814/1000\n",
      "0s - loss: 0.0018\n",
      "Epoch 815/1000\n",
      "0s - loss: 0.0019\n",
      "Epoch 816/1000\n",
      "0s - loss: 0.0015\n",
      "Epoch 817/1000\n",
      "0s - loss: 0.0013\n",
      "Epoch 818/1000\n",
      "0s - loss: 0.0015\n",
      "Epoch 819/1000\n",
      "0s - loss: 0.0019\n",
      "Epoch 820/1000\n",
      "0s - loss: 0.0016\n",
      "Epoch 821/1000\n",
      "0s - loss: 0.0019\n",
      "Epoch 822/1000\n",
      "0s - loss: 0.0014\n",
      "Epoch 823/1000\n",
      "0s - loss: 0.0014\n",
      "Epoch 824/1000\n",
      "0s - loss: 0.0017\n",
      "Epoch 825/1000\n",
      "0s - loss: 0.0018\n",
      "Epoch 826/1000\n",
      "0s - loss: 0.0015\n",
      "Epoch 827/1000\n",
      "0s - loss: 0.0019\n",
      "Epoch 828/1000\n",
      "0s - loss: 0.0017\n",
      "Epoch 829/1000\n",
      "0s - loss: 0.0016\n",
      "Epoch 830/1000\n",
      "0s - loss: 0.0015\n",
      "Epoch 831/1000\n",
      "0s - loss: 0.0016\n",
      "Epoch 832/1000\n",
      "0s - loss: 0.0016\n",
      "Epoch 833/1000\n",
      "0s - loss: 0.0017\n",
      "Epoch 834/1000\n",
      "0s - loss: 0.0014\n",
      "Epoch 835/1000\n",
      "0s - loss: 0.0016\n",
      "Epoch 836/1000\n",
      "0s - loss: 0.0016\n",
      "Epoch 837/1000\n",
      "0s - loss: 0.0016\n",
      "Epoch 838/1000\n",
      "0s - loss: 0.0019\n",
      "Epoch 839/1000\n",
      "0s - loss: 0.0014\n",
      "Epoch 840/1000\n",
      "0s - loss: 0.0013\n",
      "Epoch 841/1000\n",
      "0s - loss: 0.0018\n",
      "Epoch 842/1000\n",
      "0s - loss: 0.0015\n",
      "Epoch 843/1000\n",
      "0s - loss: 0.0014\n",
      "Epoch 844/1000\n",
      "0s - loss: 0.0020\n",
      "Epoch 845/1000\n",
      "0s - loss: 0.0016\n",
      "Epoch 846/1000\n",
      "0s - loss: 0.0021\n",
      "Epoch 847/1000\n",
      "0s - loss: 0.0014\n",
      "Epoch 848/1000\n",
      "0s - loss: 0.0021\n",
      "Epoch 849/1000\n",
      "0s - loss: 0.0014\n",
      "Epoch 850/1000\n",
      "0s - loss: 0.0019\n",
      "Epoch 851/1000\n",
      "0s - loss: 0.0017\n",
      "Epoch 852/1000\n",
      "0s - loss: 0.0014\n",
      "Epoch 853/1000\n",
      "0s - loss: 0.0015\n",
      "Epoch 854/1000\n",
      "0s - loss: 0.0023\n",
      "Epoch 855/1000\n",
      "0s - loss: 0.0014\n",
      "Epoch 856/1000\n",
      "0s - loss: 0.0021\n",
      "Epoch 857/1000\n",
      "0s - loss: 0.0014\n",
      "Epoch 858/1000\n",
      "0s - loss: 0.0023\n",
      "Epoch 859/1000\n",
      "0s - loss: 0.0017\n",
      "Epoch 860/1000\n",
      "0s - loss: 0.0015\n",
      "Epoch 861/1000\n",
      "0s - loss: 0.0015\n",
      "Epoch 862/1000\n",
      "0s - loss: 0.0014\n",
      "Epoch 863/1000\n",
      "0s - loss: 0.0018\n",
      "Epoch 864/1000\n",
      "0s - loss: 0.0019\n",
      "Epoch 865/1000\n",
      "0s - loss: 0.0017\n",
      "Epoch 866/1000\n",
      "0s - loss: 0.0013\n",
      "Epoch 867/1000\n",
      "0s - loss: 0.0020\n",
      "Epoch 868/1000\n",
      "0s - loss: 0.0015\n",
      "Epoch 869/1000\n",
      "0s - loss: 0.0020\n",
      "Epoch 870/1000\n",
      "0s - loss: 0.0012\n",
      "Epoch 871/1000\n",
      "0s - loss: 0.0025\n",
      "Epoch 872/1000\n",
      "0s - loss: 0.0016\n",
      "Epoch 873/1000\n",
      "0s - loss: 0.0018\n",
      "Epoch 874/1000\n",
      "0s - loss: 0.0020\n",
      "Epoch 875/1000\n",
      "0s - loss: 0.0019\n",
      "Epoch 876/1000\n",
      "0s - loss: 0.0013\n",
      "Epoch 877/1000\n",
      "0s - loss: 0.0016\n",
      "Epoch 878/1000\n",
      "0s - loss: 0.0017\n",
      "Epoch 879/1000\n",
      "0s - loss: 0.0016\n",
      "Epoch 880/1000\n",
      "0s - loss: 0.0016\n",
      "Epoch 881/1000\n",
      "0s - loss: 0.0013\n",
      "Epoch 882/1000\n",
      "0s - loss: 0.0019\n",
      "Epoch 883/1000\n",
      "0s - loss: 0.0018\n",
      "Epoch 884/1000\n",
      "0s - loss: 0.0018\n",
      "Epoch 885/1000\n",
      "0s - loss: 0.0018\n",
      "Epoch 886/1000\n",
      "0s - loss: 0.0014\n",
      "Epoch 887/1000\n",
      "0s - loss: 0.0014\n",
      "Epoch 888/1000\n",
      "0s - loss: 0.0019\n",
      "Epoch 889/1000\n",
      "0s - loss: 0.0016\n",
      "Epoch 890/1000\n",
      "0s - loss: 0.0012\n",
      "Epoch 891/1000\n",
      "0s - loss: 0.0016\n",
      "Epoch 892/1000\n",
      "0s - loss: 0.0014\n",
      "Epoch 893/1000\n",
      "0s - loss: 0.0017\n",
      "Epoch 894/1000\n",
      "0s - loss: 0.0013\n",
      "Epoch 895/1000\n",
      "0s - loss: 0.0019\n",
      "Epoch 896/1000\n",
      "0s - loss: 0.0011\n",
      "Epoch 897/1000\n",
      "0s - loss: 0.0017\n",
      "Epoch 898/1000\n",
      "0s - loss: 0.0025\n",
      "Epoch 899/1000\n",
      "0s - loss: 0.0015\n",
      "Epoch 900/1000\n",
      "0s - loss: 0.0013\n",
      "Epoch 901/1000\n",
      "0s - loss: 0.0021\n",
      "Epoch 902/1000\n",
      "0s - loss: 0.0015\n",
      "Epoch 903/1000\n",
      "0s - loss: 0.0015\n",
      "Epoch 904/1000\n",
      "0s - loss: 0.0014\n",
      "Epoch 905/1000\n",
      "0s - loss: 0.0018\n",
      "Epoch 906/1000\n",
      "0s - loss: 0.0015\n",
      "Epoch 907/1000\n",
      "0s - loss: 0.0021\n",
      "Epoch 908/1000\n",
      "0s - loss: 0.0015\n",
      "Epoch 909/1000\n",
      "0s - loss: 0.0012\n",
      "Epoch 910/1000\n",
      "0s - loss: 0.0018\n",
      "Epoch 911/1000\n",
      "0s - loss: 0.0013\n",
      "Epoch 912/1000\n",
      "0s - loss: 0.0014\n",
      "Epoch 913/1000\n",
      "0s - loss: 0.0015\n",
      "Epoch 914/1000\n",
      "0s - loss: 0.0014\n",
      "Epoch 915/1000\n",
      "0s - loss: 0.0019\n",
      "Epoch 916/1000\n",
      "0s - loss: 0.0017\n",
      "Epoch 917/1000\n",
      "0s - loss: 0.0011\n",
      "Epoch 918/1000\n",
      "0s - loss: 0.0018\n",
      "Epoch 919/1000\n",
      "0s - loss: 0.0020\n",
      "Epoch 920/1000\n",
      "0s - loss: 0.0015\n",
      "Epoch 921/1000\n",
      "0s - loss: 0.0015\n",
      "Epoch 922/1000\n",
      "0s - loss: 0.0016\n",
      "Epoch 923/1000\n",
      "0s - loss: 0.0014\n",
      "Epoch 924/1000\n",
      "0s - loss: 0.0021\n",
      "Epoch 925/1000\n",
      "0s - loss: 0.0016\n",
      "Epoch 926/1000\n",
      "0s - loss: 0.0014\n",
      "Epoch 927/1000\n",
      "0s - loss: 0.0013\n",
      "Epoch 928/1000\n",
      "0s - loss: 0.0017\n",
      "Epoch 929/1000\n",
      "0s - loss: 0.0015\n",
      "Epoch 930/1000\n",
      "0s - loss: 0.0014\n",
      "Epoch 931/1000\n",
      "0s - loss: 0.0019\n",
      "Epoch 932/1000\n",
      "0s - loss: 0.0017\n",
      "Epoch 933/1000\n",
      "0s - loss: 0.0016\n",
      "Epoch 934/1000\n",
      "0s - loss: 0.0013\n",
      "Epoch 935/1000\n",
      "0s - loss: 0.0015\n",
      "Epoch 936/1000\n",
      "0s - loss: 0.0018\n",
      "Epoch 937/1000\n",
      "0s - loss: 0.0023\n",
      "Epoch 938/1000\n",
      "0s - loss: 0.0015\n",
      "Epoch 939/1000\n",
      "0s - loss: 0.0013\n",
      "Epoch 940/1000\n",
      "0s - loss: 0.0017\n",
      "Epoch 941/1000\n",
      "0s - loss: 0.0015\n",
      "Epoch 942/1000\n",
      "0s - loss: 0.0014\n",
      "Epoch 943/1000\n",
      "0s - loss: 0.0015\n",
      "Epoch 944/1000\n",
      "0s - loss: 0.0020\n",
      "Epoch 945/1000\n",
      "0s - loss: 0.0018\n",
      "Epoch 946/1000\n",
      "0s - loss: 0.0013\n",
      "Epoch 947/1000\n",
      "0s - loss: 0.0015\n",
      "Epoch 948/1000\n",
      "0s - loss: 0.0018\n",
      "Epoch 949/1000\n",
      "0s - loss: 0.0013\n",
      "Epoch 950/1000\n",
      "0s - loss: 0.0016\n",
      "Epoch 951/1000\n",
      "0s - loss: 0.0015\n",
      "Epoch 952/1000\n",
      "0s - loss: 0.0016\n",
      "Epoch 953/1000\n",
      "0s - loss: 0.0018\n",
      "Epoch 954/1000\n",
      "0s - loss: 0.0016\n",
      "Epoch 955/1000\n",
      "0s - loss: 0.0020\n",
      "Epoch 956/1000\n",
      "0s - loss: 0.0012\n",
      "Epoch 957/1000\n",
      "0s - loss: 0.0018\n",
      "Epoch 958/1000\n",
      "0s - loss: 0.0015\n",
      "Epoch 959/1000\n",
      "0s - loss: 0.0020\n",
      "Epoch 960/1000\n",
      "0s - loss: 0.0020\n",
      "Epoch 961/1000\n",
      "0s - loss: 0.0013\n",
      "Epoch 962/1000\n",
      "0s - loss: 0.0016\n",
      "Epoch 963/1000\n",
      "0s - loss: 0.0014\n",
      "Epoch 964/1000\n",
      "0s - loss: 0.0014\n",
      "Epoch 965/1000\n",
      "0s - loss: 0.0020\n",
      "Epoch 966/1000\n",
      "0s - loss: 0.0014\n",
      "Epoch 967/1000\n",
      "0s - loss: 0.0011\n",
      "Epoch 968/1000\n",
      "0s - loss: 0.0019\n",
      "Epoch 969/1000\n",
      "0s - loss: 0.0019\n",
      "Epoch 970/1000\n",
      "0s - loss: 0.0013\n",
      "Epoch 971/1000\n",
      "0s - loss: 0.0018\n",
      "Epoch 972/1000\n",
      "0s - loss: 0.0013\n",
      "Epoch 973/1000\n",
      "0s - loss: 0.0017\n",
      "Epoch 974/1000\n",
      "0s - loss: 0.0017\n",
      "Epoch 975/1000\n",
      "0s - loss: 0.0012\n",
      "Epoch 976/1000\n",
      "0s - loss: 0.0016\n",
      "Epoch 977/1000\n",
      "0s - loss: 0.0015\n",
      "Epoch 978/1000\n",
      "0s - loss: 0.0013\n",
      "Epoch 979/1000\n",
      "0s - loss: 0.0018\n",
      "Epoch 980/1000\n",
      "0s - loss: 0.0015\n",
      "Epoch 981/1000\n",
      "0s - loss: 0.0012\n",
      "Epoch 982/1000\n",
      "0s - loss: 0.0015\n",
      "Epoch 983/1000\n",
      "0s - loss: 0.0014\n",
      "Epoch 984/1000\n",
      "0s - loss: 0.0016\n",
      "Epoch 985/1000\n",
      "0s - loss: 0.0012\n",
      "Epoch 986/1000\n",
      "0s - loss: 0.0023\n",
      "Epoch 987/1000\n",
      "0s - loss: 0.0013\n",
      "Epoch 988/1000\n",
      "0s - loss: 0.0013\n",
      "Epoch 989/1000\n",
      "0s - loss: 0.0016\n",
      "Epoch 990/1000\n",
      "0s - loss: 0.0018\n",
      "Epoch 991/1000\n",
      "0s - loss: 0.0018\n",
      "Epoch 992/1000\n",
      "0s - loss: 0.0013\n",
      "Epoch 993/1000\n",
      "0s - loss: 0.0011\n",
      "Epoch 994/1000\n",
      "0s - loss: 0.0014\n",
      "Epoch 995/1000\n",
      "0s - loss: 0.0018\n",
      "Epoch 996/1000\n",
      "0s - loss: 0.0013\n",
      "Epoch 997/1000\n",
      "0s - loss: 0.0015\n",
      "Epoch 998/1000\n",
      "0s - loss: 0.0018\n",
      "Epoch 999/1000\n",
      "0s - loss: 0.0013\n",
      "Epoch 1000/1000\n",
      "0s - loss: 0.0023\n"
     ]
    },
    {
     "data": {
      "text/plain": [
       "<keras.callbacks.History at 0x1060936a0>"
      ]
     },
     "execution_count": 25,
     "metadata": {},
     "output_type": "execute_result"
    }
   ],
   "source": [
    "cubic_network.fit(x, y3, nb_epoch=1000, verbose=2)"
   ]
  },
  {
   "cell_type": "code",
   "execution_count": 26,
   "metadata": {
    "collapsed": false,
    "slideshow": {
     "slide_type": "slide"
    }
   },
   "outputs": [
    {
     "data": {
      "text/plain": [
       "[<matplotlib.lines.Line2D at 0x1100cbd30>]"
      ]
     },
     "execution_count": 26,
     "metadata": {},
     "output_type": "execute_result"
    },
    {
     "data": {
      "image/png": "[encoded data removed]",
      "text/plain": [
       "<matplotlib.figure.Figure at 0x10fa784a8>"
      ]
     },
     "metadata": {},
     "output_type": "display_data"
    }
   ],
   "source": [
    "y3_prime = cubic_network.predict(x)\n",
    "plt.scatter(x, y3, alpha=0.1)\n",
    "plt.plot(x, y3_prime, color='g')"
   ]
  },
  {
   "cell_type": "markdown",
   "metadata": {
    "collapsed": true,
    "slideshow": {
     "slide_type": "slide"
    }
   },
   "source": [
    "## Natural Language Generation\n",
    "\n",
    "- Natural language processing has many applications, very broad field.\n",
    "- Neural nets provide a _**<span style=\"color:#4e85b2;\">distributed representation</span>**_ of text.\n",
    "- We're going to walk through character level language generation."
   ]
  },
  {
   "cell_type": "markdown",
   "metadata": {
    "slideshow": {
     "slide_type": "slide"
    }
   },
   "source": [
    "### Step 1. Load data."
   ]
  },
  {
   "cell_type": "code",
   "execution_count": 11,
   "metadata": {
    "collapsed": true,
    "slideshow": {
     "slide_type": "fragment"
    }
   },
   "outputs": [],
   "source": [
    "def read_lines(filename):\n",
    "    lines = open(filename).read().strip().split('.')\n",
    "    return lines\n",
    "\n",
    "lines = read_lines('data/trump_speeches.txt')\n",
    "\n",
    "all_text = ' '.join([' '.join(x.splitlines()) for x in lines])\n",
    "\n",
    "chars = sorted(list(set(all_text)))\n",
    "char_indices = {c:i for i, c in enumerate(chars)}\n",
    "indices_char = {i:c for i, c in enumerate(chars)}"
   ]
  },
  {
   "cell_type": "markdown",
   "metadata": {
    "slideshow": {
     "slide_type": "slide"
    }
   },
   "source": [
    "### Step 2. Prepare (input, output) training set.\n",
    "\n",
    "```\n",
    "input                 output\n",
    "-----                 ------\n",
    "\"The quick brown \"     \"f\"\n",
    "\"he quick brown f\"     \"o\"\n",
    "\"e quick brown fo\"     \"x\"\n",
    "```"
   ]
  },
  {
   "cell_type": "code",
   "execution_count": 12,
   "metadata": {
    "collapsed": true,
    "slideshow": {
     "slide_type": "fragment"
    }
   },
   "outputs": [],
   "source": [
    "# need to create character sequence -> next character mappings\n",
    "seqlen = 40 # 40 characters at a time.\n",
    "# all possible 40 character strings from text\n",
    "seqs = [all_text[i:i+seqlen]\n",
    "        for i in range(len(all_text)-seqlen)]\n",
    "# the next character in all those cases\n",
    "char = [all_text[i+seqlen]\n",
    "        for i in range(len(all_text)-seqlen)]"
   ]
  },
  {
   "cell_type": "markdown",
   "metadata": {
    "slideshow": {
     "slide_type": "slide"
    }
   },
   "source": [
    "### How do we model language with numbers?\n",
    "\n",
    "<img src=\"img/word_vectors.png\" style=\"margin:auto\">"
   ]
  },
  {
   "cell_type": "markdown",
   "metadata": {},
   "source": [
    "### Step 3. Vectorization."
   ]
  },
  {
   "cell_type": "code",
   "execution_count": 13,
   "metadata": {
    "collapsed": true,
    "slideshow": {
     "slide_type": "slide"
    }
   },
   "outputs": [],
   "source": [
    "# vectorize (create one hot encoding of characters)\n",
    "X = np.zeros((len(seqs), # number of training sequences\n",
    "              seqlen, # length of each sequence\n",
    "              len(chars)), # length of each feature vector\n",
    "             dtype=np.bool)\n",
    "y = np.zeros((len(seqs), len(chars)), dtype=np.bool)\n",
    "\n",
    "for i, seq in enumerate(seqs):\n",
    "    for t, c in enumerate(seq):\n",
    "        X[i, t, char_indices[c]] = 1\n",
    "    y[i, char_indices[char[i]]] = 1"
   ]
  },
  {
   "cell_type": "markdown",
   "metadata": {
    "slideshow": {
     "slide_type": "slide"
    }
   },
   "source": [
    "## Recurrent neural networks\n",
    "\n",
    "- Text is sequential data.\n",
    "- So far we only looked at \"feed forward\" nets.\n",
    "- We can change our architecture to look at sequences of inputs."
   ]
  },
  {
   "cell_type": "markdown",
   "metadata": {
    "slideshow": {
     "slide_type": "slide"
    }
   },
   "source": [
    "<img src=\"img/empty_neuron.png\" style=\"margin:auto\">"
   ]
  },
  {
   "cell_type": "markdown",
   "metadata": {
    "slideshow": {
     "slide_type": "slide"
    }
   },
   "source": [
    "<img src=\"img/recurrent_neuron.png\" style=\"margin:auto\">"
   ]
  },
  {
   "cell_type": "markdown",
   "metadata": {
    "slideshow": {
     "slide_type": "slide"
    }
   },
   "source": [
    "<img src=\"img/backprop_through_time.png\" style=\"margin:auto\">"
   ]
  },
  {
   "cell_type": "code",
   "execution_count": null,
   "metadata": {
    "collapsed": false,
    "slideshow": {
     "slide_type": "slide"
    }
   },
   "outputs": [],
   "source": [
    "# LSTM is a special kind of recurrent neuron\n",
    "model = Sequential([\n",
    "    LSTM(256, return_sequences=True, input_shape=(seqlen, len(chars))),\n",
    "    Dropout(0.2),\n",
    "    LSTM(256),\n",
    "    Dropout(0.2),\n",
    "    Dense(len(chars)),\n",
    "    Activation('softmax'),\n",
    "])\n",
    "model.compile(loss='categorical_crossentropy', optimizer='adam')"
   ]
  },
  {
   "cell_type": "markdown",
   "metadata": {},
   "source": [
    "![character lstm](img/char_lstm.png)"
   ]
  },
  {
   "cell_type": "code",
   "execution_count": null,
   "metadata": {
    "collapsed": false,
    "slideshow": {
     "slide_type": "slide"
    }
   },
   "outputs": [],
   "source": [
    "from keras.models import load_model\n",
    "model = load_model('models/trump_epoch_60.h5')"
   ]
  },
  {
   "cell_type": "code",
   "execution_count": null,
   "metadata": {
    "collapsed": true,
    "slideshow": {
     "slide_type": "slide"
    }
   },
   "outputs": [],
   "source": [
    "def sample(preds, temperature=1.0):\n",
    "    # helper function to sample an index from a probability array\n",
    "    # thieved from Keras creator @fchollet\n",
    "    preds = np.asarray([max(x,10**-10) for x in preds]).astype('float64')\n",
    "    preds = np.log(preds) / temperature\n",
    "    exp_preds = np.exp(preds)\n",
    "    preds = exp_preds / np.sum(exp_preds)\n",
    "    probas = np.random.multinomial(1, preds, 1)\n",
    "    return np.argmax(probas)"
   ]
  },
  {
   "cell_type": "code",
   "execution_count": null,
   "metadata": {
    "collapsed": false
   },
   "outputs": [],
   "source": [
    "# Here's the fun part.\n",
    "# Exercise. Person with the funniest output wins.\n",
    "\n",
    "# Initialisation\n",
    "generated = ''\n",
    "\n",
    "# The seed of the text generation. Feel free to change this,\n",
    "# but make sure it's at least 40 characters:\n",
    "sentence = \"We're going to Make America Great Again \"\n",
    "\n",
    "# Number of characters to generate following the seed.\n",
    "# Try a whole essay!\n",
    "length = 1000\n",
    "\n",
    "# The \"temperature\" determines how diverse the generated text is.\n",
    "# It just reweights the output probabilities from the network.\n",
    "# A lower temperature will be more conservative,\n",
    "# whereas a higher temperature will be more diverse,\n",
    "# but probably stop making sense.\n",
    "temperature = 0.3\n",
    "\n",
    "# Below here is boilerplate to output the generated text.\n",
    "sentence = sentence[-40:] # take only the last 40 characters to begin generation.\n",
    "generated += sentence\n",
    "\n",
    "print()\n",
    "sys.stdout.write(generated)\n",
    "print()\n",
    "prev_char = ''\n",
    "for i in range(length):\n",
    "    x = np.zeros((1, seqlen, len(chars)))\n",
    "    for t, char in enumerate(sentence):\n",
    "        x[0, t, char_indices[char]] = 1.\n",
    "\n",
    "    preds = model.predict(x, verbose=0)[0]\n",
    "    next_index = sample(preds, temperature)\n",
    "    next_char = indices_char[next_index]\n",
    "    \n",
    "    generated += next_char\n",
    "    sentence = sentence[1:] + next_char\n",
    "    \n",
    "    if prev_char == ' ' and next_char == ' ':\n",
    "        sys.stdout.write('\\n')\n",
    "    else:\n",
    "        sys.stdout.write(next_char)\n",
    "    prev_char = next_char\n",
    "    sys.stdout.flush()"
   ]
  },
  {
   "cell_type": "markdown",
   "metadata": {
    "collapsed": true
   },
   "source": [
    "# Thanks!\n",
    "\n",
    "- [@sharperecruit](https://twitter.com/sharperecruit)\n",
    "- [@mypebble](https://twitter.com/mypebble)\n",
    "- [@campusnorthuk](https://twitter.com/campusnorthuk)\n",
    "\n",
    "Dumb personal brand.\n",
    "- [@bitcollider_io](https://twitter.com/bitcollider_io)"
   ]
  },
  {
   "cell_type": "code",
   "execution_count": null,
   "metadata": {
    "collapsed": true
   },
   "outputs": [],
   "source": []
  }
 ],
 "metadata": {
  "celltoolbar": "Slideshow",
  "kernelspec": {
   "display_name": "Python 3",
   "language": "python",
   "name": "python3"
  },
  "language_info": {
   "codemirror_mode": {
    "name": "ipython",
    "version": 3
   },
   "file_extension": ".py",
   "mimetype": "text/x-python",
   "name": "python",
   "nbconvert_exporter": "python",
   "pygments_lexer": "ipython3",
   "version": "3.5.2"
  }
 },
 "nbformat": 4,
 "nbformat_minor": 2
}
